{
 "cells": [
  {
   "cell_type": "markdown",
   "id": "cda1cb94",
   "metadata": {},
   "source": [
    "# Demo of Python : Simple matrix operations & Plotting\n",
    "\n",
    "Author : Keith Hawkins (UT Austin)\n",
    "AST352K Spring 2023\n",
    "\n",
    "Class : AST352K\n",
    "\n",
    "Demo of Python\n",
    "\n",
    "Date : Aug 25, 2022"
   ]
  },
  {
   "cell_type": "markdown",
   "id": "08fbf763",
   "metadata": {},
   "source": [
    "## Learning goals\n",
    "The purpose of this tutorial/demo is to introduce you to the basics of python that will be required to complete the various projects in this class. Here we will practice using arrays and lists, simple mathematical opportations, plotting, etc. \n",
    "\n",
    "Introduce the arrays and lists\n",
    "Introduce simple plotting in 1-,2-d with matplotlib (e.g. x-y, histogram, histogram in 2d via hexbin)\n",
    "\n",
    "\n",
    "We will start by loading in the nessisary libraries. Inside the libraries exists defintions (functions) that allow us to carry out what we want the code to do. \n",
    "\n",
    "\n",
    "Lets begin!\n",
    "DATA LOCATION \n",
    "Data sets: \n",
    "high_quality_gaia.fits [50 MB] = astrometry, photometry for 500,000+ random milky way stars with uncertainties in parallax better than 1%. Data location : https://utexas.box.com/s/x4kfcv97bdxrhwkxllm687wjo3u2ls54\n",
    "\n",
    "Download and save to the SAME LOCATION as this file."
   ]
  },
  {
   "cell_type": "code",
   "execution_count": 18,
   "id": "96aae66a",
   "metadata": {},
   "outputs": [],
   "source": [
    "#lets make a plots interactive; comment out if you do not have widget installed\n",
    "%matplotlib widget \n",
    "\n",
    "#if we wanted to make the plots inline in the notebook and not interactive / if you dont have widget lets talk\n",
    "#%matplotlib inline\n",
    "\n",
    "#Importing libraries \n",
    "import numpy as np #numpy\n",
    "import matplotlib.pyplot as p\n",
    "import astropy\n",
    "from astropy.table import Table\n",
    "from cycler import cycler"
   ]
  },
  {
   "cell_type": "markdown",
   "id": "505f853e",
   "metadata": {},
   "source": [
    "Styling plots: \n",
    "    Lets set some of the default parameters for plotting. This cell is not needed but i like to style my plots."
   ]
  },
  {
   "cell_type": "code",
   "execution_count": 5,
   "id": "9c469e2b",
   "metadata": {},
   "outputs": [],
   "source": [
    "#Lets set some of the default parameters for plotting. This cell is not needed but i like to style my plots.\n",
    "p.rc('axes',prop_cycle=(cycler('color', ['k','b','g','r','c','m','y'])))\n",
    "p.rcParams['lines.linewidth']= 1.5\n",
    "p.rcParams['axes.linewidth']=2.0\n",
    "p.rcParams['font.size']= 15.0\n",
    "p.rcParams['axes.labelsize']=16.0\n",
    "p.rcParams['axes.unicode_minus']=False\n",
    "p.rcParams['xtick.major.size']=6\n",
    "p.rcParams['xtick.minor.size']=3\n",
    "p.rcParams['xtick.major.width']=1.5#2.0\n",
    "p.rcParams['xtick.minor.width']=1.0\n",
    "p.rcParams['axes.linewidth']=2.5\n",
    "p.rcParams['axes.titlesize']=20#'large'\n",
    "p.rcParams['xtick.labelsize'] = 20#'x-large' # fontsize of the tick labels\n",
    "p.rcParams['ytick.labelsize']=20 #'x-large'\n",
    "p.rcParams['ytick.major.width']=2.0 #4\n",
    "p.rcParams['ytick.minor.width']=1.0 #2.0\n",
    "#--- added ONLY if you have LATEX installed otherwise comment out this-----\n",
    "p.rcParams['text.usetex']= True\n",
    "p.rcParams['mathtext.fontset']= 'custom'\n",
    "p.rcParams['mathtext.default']= 'rm'\n",
    "p.rcParams['axes.formatter.use_mathtext']=False\n",
    "#-----------------------------------------------"
   ]
  },
  {
   "cell_type": "code",
   "execution_count": null,
   "id": "88a5c180",
   "metadata": {},
   "outputs": [],
   "source": []
  },
  {
   "cell_type": "markdown",
   "id": "4e1fd0e4",
   "metadata": {},
   "source": [
    "## Arrays and Printing "
   ]
  },
  {
   "cell_type": "code",
   "execution_count": 13,
   "id": "3406c414",
   "metadata": {},
   "outputs": [
    {
     "name": "stdout",
     "output_type": "stream",
     "text": [
      "[-2.00000000e+01 -1.99000000e+01 -1.98000000e+01 -1.97000000e+01\n",
      " -1.96000000e+01 -1.95000000e+01 -1.94000000e+01 -1.93000000e+01\n",
      " -1.92000000e+01 -1.91000000e+01 -1.90000000e+01 -1.89000000e+01\n",
      " -1.88000000e+01 -1.87000000e+01 -1.86000000e+01 -1.85000000e+01\n",
      " -1.84000000e+01 -1.83000000e+01 -1.82000000e+01 -1.81000000e+01\n",
      " -1.80000000e+01 -1.79000000e+01 -1.78000000e+01 -1.77000000e+01\n",
      " -1.76000000e+01 -1.75000000e+01 -1.74000000e+01 -1.73000000e+01\n",
      " -1.72000000e+01 -1.71000000e+01 -1.70000000e+01 -1.69000000e+01\n",
      " -1.68000000e+01 -1.67000000e+01 -1.66000000e+01 -1.65000000e+01\n",
      " -1.64000000e+01 -1.63000000e+01 -1.62000000e+01 -1.61000000e+01\n",
      " -1.60000000e+01 -1.59000000e+01 -1.58000000e+01 -1.57000000e+01\n",
      " -1.56000000e+01 -1.55000000e+01 -1.54000000e+01 -1.53000000e+01\n",
      " -1.52000000e+01 -1.51000000e+01 -1.50000000e+01 -1.49000000e+01\n",
      " -1.48000000e+01 -1.47000000e+01 -1.46000000e+01 -1.45000000e+01\n",
      " -1.44000000e+01 -1.43000000e+01 -1.42000000e+01 -1.41000000e+01\n",
      " -1.40000000e+01 -1.39000000e+01 -1.38000000e+01 -1.37000000e+01\n",
      " -1.36000000e+01 -1.35000000e+01 -1.34000000e+01 -1.33000000e+01\n",
      " -1.32000000e+01 -1.31000000e+01 -1.30000000e+01 -1.29000000e+01\n",
      " -1.28000000e+01 -1.27000000e+01 -1.26000000e+01 -1.25000000e+01\n",
      " -1.24000000e+01 -1.23000000e+01 -1.22000000e+01 -1.21000000e+01\n",
      " -1.20000000e+01 -1.19000000e+01 -1.18000000e+01 -1.17000000e+01\n",
      " -1.16000000e+01 -1.15000000e+01 -1.14000000e+01 -1.13000000e+01\n",
      " -1.12000000e+01 -1.11000000e+01 -1.10000000e+01 -1.09000000e+01\n",
      " -1.08000000e+01 -1.07000000e+01 -1.06000000e+01 -1.05000000e+01\n",
      " -1.04000000e+01 -1.03000000e+01 -1.02000000e+01 -1.01000000e+01\n",
      " -1.00000000e+01 -9.90000000e+00 -9.80000000e+00 -9.70000000e+00\n",
      " -9.60000000e+00 -9.50000000e+00 -9.40000000e+00 -9.30000000e+00\n",
      " -9.20000000e+00 -9.10000000e+00 -9.00000000e+00 -8.90000000e+00\n",
      " -8.80000000e+00 -8.70000000e+00 -8.60000000e+00 -8.50000000e+00\n",
      " -8.40000000e+00 -8.30000000e+00 -8.20000000e+00 -8.10000000e+00\n",
      " -8.00000000e+00 -7.90000000e+00 -7.80000000e+00 -7.70000000e+00\n",
      " -7.60000000e+00 -7.50000000e+00 -7.40000000e+00 -7.30000000e+00\n",
      " -7.20000000e+00 -7.10000000e+00 -7.00000000e+00 -6.90000000e+00\n",
      " -6.80000000e+00 -6.70000000e+00 -6.60000000e+00 -6.50000000e+00\n",
      " -6.40000000e+00 -6.30000000e+00 -6.20000000e+00 -6.10000000e+00\n",
      " -6.00000000e+00 -5.90000000e+00 -5.80000000e+00 -5.70000000e+00\n",
      " -5.60000000e+00 -5.50000000e+00 -5.40000000e+00 -5.30000000e+00\n",
      " -5.20000000e+00 -5.10000000e+00 -5.00000000e+00 -4.90000000e+00\n",
      " -4.80000000e+00 -4.70000000e+00 -4.60000000e+00 -4.50000000e+00\n",
      " -4.40000000e+00 -4.30000000e+00 -4.20000000e+00 -4.10000000e+00\n",
      " -4.00000000e+00 -3.90000000e+00 -3.80000000e+00 -3.70000000e+00\n",
      " -3.60000000e+00 -3.50000000e+00 -3.40000000e+00 -3.30000000e+00\n",
      " -3.20000000e+00 -3.10000000e+00 -3.00000000e+00 -2.90000000e+00\n",
      " -2.80000000e+00 -2.70000000e+00 -2.60000000e+00 -2.50000000e+00\n",
      " -2.40000000e+00 -2.30000000e+00 -2.20000000e+00 -2.10000000e+00\n",
      " -2.00000000e+00 -1.90000000e+00 -1.80000000e+00 -1.70000000e+00\n",
      " -1.60000000e+00 -1.50000000e+00 -1.40000000e+00 -1.30000000e+00\n",
      " -1.20000000e+00 -1.10000000e+00 -1.00000000e+00 -9.00000000e-01\n",
      " -8.00000000e-01 -7.00000000e-01 -6.00000000e-01 -5.00000000e-01\n",
      " -4.00000000e-01 -3.00000000e-01 -2.00000000e-01 -1.00000000e-01\n",
      "  2.84217094e-13  1.00000000e-01  2.00000000e-01  3.00000000e-01\n",
      "  4.00000000e-01  5.00000000e-01  6.00000000e-01  7.00000000e-01\n",
      "  8.00000000e-01  9.00000000e-01  1.00000000e+00  1.10000000e+00\n",
      "  1.20000000e+00  1.30000000e+00  1.40000000e+00  1.50000000e+00\n",
      "  1.60000000e+00  1.70000000e+00  1.80000000e+00  1.90000000e+00\n",
      "  2.00000000e+00  2.10000000e+00  2.20000000e+00  2.30000000e+00\n",
      "  2.40000000e+00  2.50000000e+00  2.60000000e+00  2.70000000e+00\n",
      "  2.80000000e+00  2.90000000e+00  3.00000000e+00  3.10000000e+00\n",
      "  3.20000000e+00  3.30000000e+00  3.40000000e+00  3.50000000e+00\n",
      "  3.60000000e+00  3.70000000e+00  3.80000000e+00  3.90000000e+00\n",
      "  4.00000000e+00  4.10000000e+00  4.20000000e+00  4.30000000e+00\n",
      "  4.40000000e+00  4.50000000e+00  4.60000000e+00  4.70000000e+00\n",
      "  4.80000000e+00  4.90000000e+00  5.00000000e+00  5.10000000e+00\n",
      "  5.20000000e+00  5.30000000e+00  5.40000000e+00  5.50000000e+00\n",
      "  5.60000000e+00  5.70000000e+00  5.80000000e+00  5.90000000e+00\n",
      "  6.00000000e+00  6.10000000e+00  6.20000000e+00  6.30000000e+00\n",
      "  6.40000000e+00  6.50000000e+00  6.60000000e+00  6.70000000e+00\n",
      "  6.80000000e+00  6.90000000e+00  7.00000000e+00  7.10000000e+00\n",
      "  7.20000000e+00  7.30000000e+00  7.40000000e+00  7.50000000e+00\n",
      "  7.60000000e+00  7.70000000e+00  7.80000000e+00  7.90000000e+00\n",
      "  8.00000000e+00  8.10000000e+00  8.20000000e+00  8.30000000e+00\n",
      "  8.40000000e+00  8.50000000e+00  8.60000000e+00  8.70000000e+00\n",
      "  8.80000000e+00  8.90000000e+00  9.00000000e+00  9.10000000e+00\n",
      "  9.20000000e+00  9.30000000e+00  9.40000000e+00  9.50000000e+00\n",
      "  9.60000000e+00  9.70000000e+00  9.80000000e+00  9.90000000e+00\n",
      "  1.00000000e+01  1.01000000e+01  1.02000000e+01  1.03000000e+01\n",
      "  1.04000000e+01  1.05000000e+01  1.06000000e+01  1.07000000e+01\n",
      "  1.08000000e+01  1.09000000e+01  1.10000000e+01  1.11000000e+01\n",
      "  1.12000000e+01  1.13000000e+01  1.14000000e+01  1.15000000e+01\n",
      "  1.16000000e+01  1.17000000e+01  1.18000000e+01  1.19000000e+01\n",
      "  1.20000000e+01  1.21000000e+01  1.22000000e+01  1.23000000e+01\n",
      "  1.24000000e+01  1.25000000e+01  1.26000000e+01  1.27000000e+01\n",
      "  1.28000000e+01  1.29000000e+01  1.30000000e+01  1.31000000e+01\n",
      "  1.32000000e+01  1.33000000e+01  1.34000000e+01  1.35000000e+01\n",
      "  1.36000000e+01  1.37000000e+01  1.38000000e+01  1.39000000e+01\n",
      "  1.40000000e+01  1.41000000e+01  1.42000000e+01  1.43000000e+01\n",
      "  1.44000000e+01  1.45000000e+01  1.46000000e+01  1.47000000e+01\n",
      "  1.48000000e+01  1.49000000e+01  1.50000000e+01  1.51000000e+01\n",
      "  1.52000000e+01  1.53000000e+01  1.54000000e+01  1.55000000e+01\n",
      "  1.56000000e+01  1.57000000e+01  1.58000000e+01  1.59000000e+01\n",
      "  1.60000000e+01  1.61000000e+01  1.62000000e+01  1.63000000e+01\n",
      "  1.64000000e+01  1.65000000e+01  1.66000000e+01  1.67000000e+01\n",
      "  1.68000000e+01  1.69000000e+01  1.70000000e+01  1.71000000e+01\n",
      "  1.72000000e+01  1.73000000e+01  1.74000000e+01  1.75000000e+01\n",
      "  1.76000000e+01  1.77000000e+01  1.78000000e+01  1.79000000e+01\n",
      "  1.80000000e+01  1.81000000e+01  1.82000000e+01  1.83000000e+01\n",
      "  1.84000000e+01  1.85000000e+01  1.86000000e+01  1.87000000e+01\n",
      "  1.88000000e+01  1.89000000e+01  1.90000000e+01  1.91000000e+01\n",
      "  1.92000000e+01  1.93000000e+01  1.94000000e+01  1.95000000e+01\n",
      "  1.96000000e+01  1.97000000e+01  1.98000000e+01  1.99000000e+01\n",
      "  2.00000000e+01]\n"
     ]
    }
   ],
   "source": [
    "#lets define an array x such that it ranges from -20 to 20 with 0.1 step intervals \n",
    "x = np.arange(-20.0,20.1,0.1) #generates an array from -20 to 20 with step size\n",
    "\n",
    "#what is in x?\n",
    "print(x) #lets print x and see whats inside; \n"
   ]
  },
  {
   "cell_type": "code",
   "execution_count": 14,
   "id": "0c2de419",
   "metadata": {},
   "outputs": [
    {
     "name": "stdout",
     "output_type": "stream",
     "text": [
      "There are 401 elements in array x\n"
     ]
    }
   ],
   "source": [
    "#how many elements are in x?\n",
    "print('There are %i elements in array x'%(len(x))) #lets print how many elements make up array x"
   ]
  },
  {
   "cell_type": "markdown",
   "id": "b504a540",
   "metadata": {},
   "source": [
    "## Mean / Median : Simple Statistics\n",
    "What do you think the mean and median of x will be ???"
   ]
  },
  {
   "cell_type": "code",
   "execution_count": 15,
   "id": "8a18a7f7",
   "metadata": {},
   "outputs": [
    {
     "name": "stdout",
     "output_type": "stream",
     "text": [
      "The Mean of X = 0.00\n",
      "The Median of X = 0.00\n"
     ]
    }
   ],
   "source": [
    "meanx = np.mean(x)\n",
    "medianx = np.median(x)\n",
    "print('The Mean of X = %.2f'%(meanx))\n",
    "print('The Median of X = %.2f'%(medianx))"
   ]
  },
  {
   "cell_type": "markdown",
   "id": "50478e18",
   "metadata": {},
   "source": [
    "Why are these not 0? Should they be? "
   ]
  },
  {
   "cell_type": "markdown",
   "id": "f4fd5a2b",
   "metadata": {},
   "source": [
    "## Simple Operations on Arrays and Plotting"
   ]
  },
  {
   "cell_type": "code",
   "execution_count": 16,
   "id": "8ce1e196",
   "metadata": {},
   "outputs": [
    {
     "name": "stdout",
     "output_type": "stream",
     "text": [
      "There are 401 elements in array y\n"
     ]
    },
    {
     "name": "stderr",
     "output_type": "stream",
     "text": [
      "<ipython-input-16-ac086f15c126>:5: RuntimeWarning: invalid value encountered in log\n",
      "  y2 = np.log(x) #natural log Note: there will be some errors b/c negative numbers cannot be in the log\n",
      "<ipython-input-16-ac086f15c126>:6: RuntimeWarning: invalid value encountered in log10\n",
      "  y3 = np.log10(x) #log base 10\n"
     ]
    }
   ],
   "source": [
    "#lets define a new variable y such that y = x^2 NOTE ** is the same thing as power in python\n",
    "y = x**2 \n",
    "\n",
    "#lets also define a new parameter that is log(x) and log10(x)\n",
    "y2 = np.log(x) #natural log Note: there will be some errors b/c negative numbers cannot be in the log \n",
    "y3 = np.log10(x) #log base 10\n",
    "\n",
    "\n",
    "#how many elements are in y\n",
    "print('There are %i elements in array y'%(len(y))) #lets print how many elements make up array x"
   ]
  },
  {
   "cell_type": "markdown",
   "id": "253c3338",
   "metadata": {},
   "source": [
    "## Simple plotting \n",
    "Lets try to plot y as a function of x!"
   ]
  },
  {
   "cell_type": "code",
   "execution_count": 19,
   "id": "b9beee02",
   "metadata": {
    "scrolled": false
   },
   "outputs": [
    {
     "data": {
      "application/vnd.jupyter.widget-view+json": {
       "model_id": "dfb864181dcb4f29b33ded68a35f17b5",
       "version_major": 2,
       "version_minor": 0
      },
      "text/plain": [
       "Canvas(toolbar=Toolbar(toolitems=[('Home', 'Reset original view', 'home', 'home'), ('Back', 'Back to previous …"
      ]
     },
     "metadata": {},
     "output_type": "display_data"
    }
   ],
   "source": [
    "p.figure() # create a figure \n",
    "p.plot(x,y,ls='-',color='k') #plot y vs x  black solid line of\n",
    "p.xlabel('x') #label the x axis with 'x'\n",
    "p.ylabel('y') #label the y axis with 'y'\n",
    "p.tight_layout() # remove the white spaces"
   ]
  },
  {
   "cell_type": "markdown",
   "id": "b1de0602",
   "metadata": {},
   "source": [
    "Lets now try plotting y2 (i.e. y2= log(x)) and y3 (i.e., y= log10(x)) as a function of x on the same plot. "
   ]
  },
  {
   "cell_type": "code",
   "execution_count": 21,
   "id": "91973875",
   "metadata": {
    "scrolled": false
   },
   "outputs": [
    {
     "data": {
      "application/vnd.jupyter.widget-view+json": {
       "model_id": "310c6130cec740d2b5af861a86c2c979",
       "version_major": 2,
       "version_minor": 0
      },
      "text/plain": [
       "Canvas(toolbar=Toolbar(toolitems=[('Home', 'Reset original view', 'home', 'home'), ('Back', 'Back to previous …"
      ]
     },
     "metadata": {},
     "output_type": "display_data"
    }
   ],
   "source": [
    "p.figure() \n",
    "p.plot(x,y2,ls='-',color='k',label='y=log(x)',lw=0.5) #natural log (ln) ; solid black line with label and line weight=2\n",
    "p.plot(x,y3,ls='-.',color='r',label='y=log10(x)',lw=2) #log base 10; dot-dashed black line with label and line weight=2\n",
    "p.xlabel('X') ; p.ylabel('Y')\n",
    "p.legend()\n",
    "p.tight_layout()"
   ]
  },
  {
   "cell_type": "markdown",
   "id": "2d788c67",
   "metadata": {},
   "source": [
    "what if we wanted to make a histogram of x ? \n",
    "NOTE: Histograms allow us to see the 'Distribtuion' in a parameter."
   ]
  },
  {
   "cell_type": "code",
   "execution_count": 24,
   "id": "5bf3e334",
   "metadata": {
    "scrolled": true
   },
   "outputs": [
    {
     "data": {
      "application/vnd.jupyter.widget-view+json": {
       "model_id": "d9c44f9a29b043fca74caf820e82c5ca",
       "version_major": 2,
       "version_minor": 0
      },
      "text/plain": [
       "Canvas(toolbar=Toolbar(toolitems=[('Home', 'Reset original view', 'home', 'home'), ('Back', 'Back to previous …"
      ]
     },
     "metadata": {},
     "output_type": "display_data"
    }
   ],
   "source": [
    "p.figure() #creating a figure\n",
    "p.hist(y, histtype='step',lw=4,bins=20) #plotting the histogram\n",
    "p.ylabel('N') #creating a ylabel\n",
    "p.xlabel('y') #creating an x label \n",
    "p.tight_layout() #makes the figure \"tight\" so there arent alot of white spaces"
   ]
  },
  {
   "cell_type": "markdown",
   "id": "8f078b8c",
   "metadata": {},
   "source": [
    "## Loading in Data Tables w/ Astropy, Plotting Density Diagrams "
   ]
  },
  {
   "cell_type": "markdown",
   "id": "f34123f1",
   "metadata": {},
   "source": [
    "Ok.. so now that we have constructed an array, preformed a mathematical opporation on it, and plotted the results, lets try something harder. Lets try to read in some actual Gaia Data using astropy and plots the on sky positions for the stars "
   ]
  },
  {
   "cell_type": "code",
   "execution_count": 25,
   "id": "3a6053eb",
   "metadata": {
    "scrolled": true
   },
   "outputs": [
    {
     "data": {
      "text/plain": [
       "['source_id',\n",
       " 'ra',\n",
       " 'dec',\n",
       " 'l',\n",
       " 'b',\n",
       " 'parallax',\n",
       " 'pmra',\n",
       " 'pmdec',\n",
       " 'phot_g_mean_mag',\n",
       " 'phot_bp_mean_mag',\n",
       " 'phot_rp_mean_mag',\n",
       " 'bp_rp',\n",
       " 'ag_gspphot',\n",
       " 'azero_gspphot',\n",
       " 'ebpminrp_gspphot',\n",
       " 'has_rvs',\n",
       " 'parallax_over_error',\n",
       " 'radial_velocity']"
      ]
     },
     "execution_count": 25,
     "metadata": {},
     "output_type": "execute_result"
    }
   ],
   "source": [
    "T = Table.read('./high_quality_gaia.fits') #lets read in the fits table this is downloaded from the Gaia archive upon the completion of the ADQL query \n",
    "#NOTE: for this to work its T= Table.read(full path of data table './' = local folder/directory)\n",
    "T.colnames #this allows us to see the column names \n",
    "\n"
   ]
  },
  {
   "cell_type": "code",
   "execution_count": 26,
   "id": "fa73af9f",
   "metadata": {},
   "outputs": [
    {
     "data": {
      "text/plain": [
       "<bound method Table.show_in_notebook of <Table masked=True length=513123>\n",
       "     source_id              ra         ... parallax_over_error radial_velocity\n",
       "                           deg         ...                          km / s    \n",
       "       int64             float64       ...       float32           float32    \n",
       "------------------- ------------------ ... ------------------- ---------------\n",
       "4274927567020274560 274.03823198505614 ...           31.061579             nan\n",
       "4275021089923348096 274.27771116663604 ...            14.45642             nan\n",
       "4274940932959028352 274.50170677949245 ...           18.332487             nan\n",
       "4274930758169291776 274.35488241748374 ...           19.541174             nan\n",
       "4274935160522571904  274.2652202652083 ...           19.613132             nan\n",
       "4089962012974230016  276.8876609140014 ...           10.008068             nan\n",
       "4089962253497885184  276.8140700627627 ...           11.857016      -30.657034\n",
       "4089963662247137536   277.014841049893 ...             10.0508             nan\n",
       "4089957065220331520 276.93704475699496 ...           15.303032          41.194\n",
       "                ...                ... ...                 ...             ...\n",
       "2059093534615036416 301.36902915842927 ...           12.359153             nan\n",
       "2059106453877904384   301.919936959861 ...            11.83136             nan\n",
       "2059104942049571712 301.78061114640906 ...           42.392155      -22.973156\n",
       "2059848658589956608  300.9728974132776 ...           45.272648             nan\n",
       "2059811378278589184  299.8060432879834 ...           28.014505             nan\n",
       "2054011316968001664  302.5266780082668 ...           52.357754             nan\n",
       "2054245238075563392  305.4114066102716 ...            325.7252      -29.208984\n",
       "2054175453440589312  303.6776667692864 ...           11.564411             nan\n",
       "2054204861075481856  305.1475524002382 ...           12.839588             nan\n",
       "2054147690771215488  303.4780074980292 ...            78.14959       6.9571557>"
      ]
     },
     "execution_count": 26,
     "metadata": {},
     "output_type": "execute_result"
    }
   ],
   "source": [
    "T.show_in_notebook"
   ]
  },
  {
   "cell_type": "code",
   "execution_count": 36,
   "id": "5c90d4ad",
   "metadata": {},
   "outputs": [
    {
     "name": "stdout",
     "output_type": "stream",
     "text": [
      "There are 513123 stars in this dataset\n"
     ]
    }
   ],
   "source": [
    "print('There are %i stars in this dataset'%(len(T)))"
   ]
  },
  {
   "cell_type": "code",
   "execution_count": 27,
   "id": "d5c03876",
   "metadata": {},
   "outputs": [
    {
     "data": {
      "text/html": [
       "&lt;MaskedColumn name=&apos;ra&apos; dtype=&apos;float64&apos; unit=&apos;deg&apos; length=513123&gt;\n",
       "<table>\n",
       "<tr><td>274.03823198505614</td></tr>\n",
       "<tr><td>274.27771116663604</td></tr>\n",
       "<tr><td>274.50170677949245</td></tr>\n",
       "<tr><td>274.35488241748374</td></tr>\n",
       "<tr><td>274.2652202652083</td></tr>\n",
       "<tr><td>276.8876609140014</td></tr>\n",
       "<tr><td>276.8140700627627</td></tr>\n",
       "<tr><td>277.014841049893</td></tr>\n",
       "<tr><td>276.93704475699496</td></tr>\n",
       "<tr><td>276.7523240629263</td></tr>\n",
       "<tr><td>276.9716634131573</td></tr>\n",
       "<tr><td>277.3779919731774</td></tr>\n",
       "<tr><td>...</td></tr>\n",
       "<tr><td>301.66390180529294</td></tr>\n",
       "<tr><td>301.2524006680717</td></tr>\n",
       "<tr><td>301.36902915842927</td></tr>\n",
       "<tr><td>301.919936959861</td></tr>\n",
       "<tr><td>301.78061114640906</td></tr>\n",
       "<tr><td>300.9728974132776</td></tr>\n",
       "<tr><td>299.8060432879834</td></tr>\n",
       "<tr><td>302.5266780082668</td></tr>\n",
       "<tr><td>305.4114066102716</td></tr>\n",
       "<tr><td>303.6776667692864</td></tr>\n",
       "<tr><td>305.1475524002382</td></tr>\n",
       "<tr><td>303.4780074980292</td></tr>\n",
       "</table>"
      ],
      "text/plain": [
       "<MaskedColumn name='ra' dtype='float64' unit='deg' length=513123>\n",
       "274.03823198505614\n",
       "274.27771116663604\n",
       "274.50170677949245\n",
       "274.35488241748374\n",
       " 274.2652202652083\n",
       " 276.8876609140014\n",
       " 276.8140700627627\n",
       "  277.014841049893\n",
       "276.93704475699496\n",
       " 276.7523240629263\n",
       " 276.9716634131573\n",
       " 277.3779919731774\n",
       "               ...\n",
       "301.66390180529294\n",
       " 301.2524006680717\n",
       "301.36902915842927\n",
       "  301.919936959861\n",
       "301.78061114640906\n",
       " 300.9728974132776\n",
       " 299.8060432879834\n",
       " 302.5266780082668\n",
       " 305.4114066102716\n",
       " 303.6776667692864\n",
       " 305.1475524002382\n",
       " 303.4780074980292"
      ]
     },
     "execution_count": 27,
     "metadata": {},
     "output_type": "execute_result"
    }
   ],
   "source": [
    "T['ra'] #calling column ra "
   ]
  },
  {
   "cell_type": "markdown",
   "id": "685a46ab",
   "metadata": {},
   "source": [
    "In this case, we want to make 2 plots (this is usually better when there are a large number of points): 1. a 2D histogram which shows the on sky location of the stars in RA/DEC (Equatorial Coordinates) 2. a 2-D histogram which shows the on sky location of the stars in l,b (Galactic Coordinates). "
   ]
  },
  {
   "cell_type": "code",
   "execution_count": 31,
   "id": "74ff011d",
   "metadata": {},
   "outputs": [
    {
     "data": {
      "application/vnd.jupyter.widget-view+json": {
       "model_id": "c075a3b2c25b41e9bcdae5f07a5ff581",
       "version_major": 2,
       "version_minor": 0
      },
      "text/plain": [
       "Canvas(toolbar=Toolbar(toolitems=[('Home', 'Reset original view', 'home', 'home'), ('Back', 'Back to previous …"
      ]
     },
     "metadata": {},
     "output_type": "display_data"
    }
   ],
   "source": [
    "#----plot 1 Equatorial Coordinates------\n",
    "p.figure()\n",
    "#we will use hexbin which creates hexagonal bins and the color in each bin represents the number of stars in that bin\n",
    "#bins='log' will define logarthimic bins; mincnt = defined the min count to plot\n",
    "\n",
    "PLT= p.hexbin(T['ra'],T['dec'],bins='log', mincnt=1,cmap='Greys') #create a hexbin/2d histogram of ra,dec with log bins. \n",
    "#in the above mincnt = 1 means there must be at least 1 star in the bin!\n",
    "p.colorbar(PLT,label='log(N)') #add the colorbar to the hexbin defined as PLT\n",
    "p.xlabel('RA (deg)') #Ra x label\n",
    "p.ylabel('DEC (deg)') # dec y label\n",
    "p.tight_layout() #remove white spaces\n",
    "\n",
    "#--------"
   ]
  },
  {
   "cell_type": "code",
   "execution_count": 32,
   "id": "c10dba66",
   "metadata": {},
   "outputs": [
    {
     "data": {
      "application/vnd.jupyter.widget-view+json": {
       "model_id": "bdef35ed84c74c29884ac91f4424b970",
       "version_major": 2,
       "version_minor": 0
      },
      "text/plain": [
       "Canvas(toolbar=Toolbar(toolitems=[('Home', 'Reset original view', 'home', 'home'), ('Back', 'Back to previous …"
      ]
     },
     "metadata": {},
     "output_type": "display_data"
    }
   ],
   "source": [
    "#----plot 2------\n",
    "p.figure()\n",
    "#we will use hexbin which creates hexagonal bins and the color in each bin represents the number of stars in that bin\n",
    "#bins='log' will define logarthimic bins; mincnt = defined the min count to plot\n",
    "p.hexbin(T['l'],T['b'],bins='log', mincnt=1,cmap='Greys') \n",
    "p.xlabel('l (deg)') #Ra x label\n",
    "p.ylabel('b (deg)') #\n",
    "p.tight_layout()\n",
    "\n",
    "#--------"
   ]
  },
  {
   "cell_type": "markdown",
   "id": "86f97ccb",
   "metadata": {},
   "source": [
    "Lets transform this a little so that the l degree runs -180 to 180 to see the galaxy without the wrap around.\n",
    "To do this, we need to find all galactic longitudes that are larger than 180 and subtract 360 deg from it. That way stars with longitudes of 360 degree will also be at 0. \n",
    "\n",
    "To do this .. i will need to search the Galactic longitude array to find where the values are larger than 180 degrees and subtract of 360 degrees. Thus something that has a l = 360 will actually have a modified l at -180 degrees. We will use the \"where\" function in numpy to do this."
   ]
  },
  {
   "cell_type": "code",
   "execution_count": 35,
   "id": "afdca656",
   "metadata": {
    "scrolled": true
   },
   "outputs": [
    {
     "data": {
      "application/vnd.jupyter.widget-view+json": {
       "model_id": "6baee67299534a7abaa5540083cac345",
       "version_major": 2,
       "version_minor": 0
      },
      "text/plain": [
       "Canvas(toolbar=Toolbar(toolitems=[('Home', 'Reset original view', 'home', 'home'), ('Back', 'Back to previous …"
      ]
     },
     "metadata": {},
     "output_type": "display_data"
    }
   ],
   "source": [
    "l = T['l']\n",
    "l[np.where(l>= 180)] = l[np.where(l>= 180)]-360 #find all places where l >= 180 and subtract them by 360 deg\n",
    "#----plot 2------\n",
    "p.figure()\n",
    "#we will use hexbin which creates hexagonal bins and the color in each bin represents the number of stars in that bin\n",
    "#bins='log' will define logarthimic bins; mincnt = defined the min count to plot\n",
    "p.hexbin(l,T['b'], mincnt=1,gridsize=100, bins='log',cmap='Greys') \n",
    "p.xlabel('l (deg)') #Ra x label\n",
    "p.ylabel('b (deg)') #\n",
    "p.axhline(y=0,ls='--',color='k',lw=1)\n",
    "p.axvline(x=0,ls='--',color='k',lw=1)\n",
    "p.tight_layout()\n",
    "#--------"
   ]
  },
  {
   "cell_type": "markdown",
   "id": "dc2abaf4",
   "metadata": {},
   "source": [
    "## Making Definitions and Using for loops\n",
    "Sometimes, when coding it is easier to make a definition/function whose purpose is to take in some varibles and output something. Additionally, it may also be required to do something many times again and again, which is where for loops can be very helpful. Here we will work on both."
   ]
  },
  {
   "cell_type": "markdown",
   "id": "5c2ced6b",
   "metadata": {},
   "source": [
    "Let say we want to build a function which will take as inputs the the constants and x array to a 2nd order polynomial equation, y = $ax^2 + bx+ c$, and as an output give us y."
   ]
  },
  {
   "cell_type": "code",
   "execution_count": 36,
   "id": "13dd81d2",
   "metadata": {},
   "outputs": [],
   "source": [
    "def poly_order2(x, a,b,c): #make a definition called poly_order2 and take as inputs x, a,b,c\n",
    "    y = a*x**2 + b*x + c\n",
    "    return y"
   ]
  },
  {
   "cell_type": "markdown",
   "id": "9b96536b",
   "metadata": {},
   "source": [
    "now lets make an array x for which we will evaluate the polynomial "
   ]
  },
  {
   "cell_type": "code",
   "execution_count": 37,
   "id": "df1dc49b",
   "metadata": {},
   "outputs": [],
   "source": [
    "x = np.arange(-40,40,0.1) # makes an array of numbers between -40,40 with 0.1 steps"
   ]
  },
  {
   "cell_type": "markdown",
   "id": "0ff8e1cb",
   "metadata": {},
   "source": [
    "now lets evaulate the function over all y's putting in a=2,b=1,c=5 and print y"
   ]
  },
  {
   "cell_type": "code",
   "execution_count": 38,
   "id": "bee99f99",
   "metadata": {},
   "outputs": [
    {
     "name": "stdout",
     "output_type": "stream",
     "text": [
      "[3165.   3149.12 3133.28 3117.48 3101.72 3086.   3070.32 3054.68 3039.08\n",
      " 3023.52 3008.   2992.52 2977.08 2961.68 2946.32 2931.   2915.72 2900.48\n",
      " 2885.28 2870.12 2855.   2839.92 2824.88 2809.88 2794.92 2780.   2765.12\n",
      " 2750.28 2735.48 2720.72 2706.   2691.32 2676.68 2662.08 2647.52 2633.\n",
      " 2618.52 2604.08 2589.68 2575.32 2561.   2546.72 2532.48 2518.28 2504.12\n",
      " 2490.   2475.92 2461.88 2447.88 2433.92 2420.   2406.12 2392.28 2378.48\n",
      " 2364.72 2351.   2337.32 2323.68 2310.08 2296.52 2283.   2269.52 2256.08\n",
      " 2242.68 2229.32 2216.   2202.72 2189.48 2176.28 2163.12 2150.   2136.92\n",
      " 2123.88 2110.88 2097.92 2085.   2072.12 2059.28 2046.48 2033.72 2021.\n",
      " 2008.32 1995.68 1983.08 1970.52 1958.   1945.52 1933.08 1920.68 1908.32\n",
      " 1896.   1883.72 1871.48 1859.28 1847.12 1835.   1822.92 1810.88 1798.88\n",
      " 1786.92 1775.   1763.12 1751.28 1739.48 1727.72 1716.   1704.32 1692.68\n",
      " 1681.08 1669.52 1658.   1646.52 1635.08 1623.68 1612.32 1601.   1589.72\n",
      " 1578.48 1567.28 1556.12 1545.   1533.92 1522.88 1511.88 1500.92 1490.\n",
      " 1479.12 1468.28 1457.48 1446.72 1436.   1425.32 1414.68 1404.08 1393.52\n",
      " 1383.   1372.52 1362.08 1351.68 1341.32 1331.   1320.72 1310.48 1300.28\n",
      " 1290.12 1280.   1269.92 1259.88 1249.88 1239.92 1230.   1220.12 1210.28\n",
      " 1200.48 1190.72 1181.   1171.32 1161.68 1152.08 1142.52 1133.   1123.52\n",
      " 1114.08 1104.68 1095.32 1086.   1076.72 1067.48 1058.28 1049.12 1040.\n",
      " 1030.92 1021.88 1012.88 1003.92  995.    986.12  977.28  968.48  959.72\n",
      "  951.    942.32  933.68  925.08  916.52  908.    899.52  891.08  882.68\n",
      "  874.32  866.    857.72  849.48  841.28  833.12  825.    816.92  808.88\n",
      "  800.88  792.92  785.    777.12  769.28  761.48  753.72  746.    738.32\n",
      "  730.68  723.08  715.52  708.    700.52  693.08  685.68  678.32  671.\n",
      "  663.72  656.48  649.28  642.12  635.    627.92  620.88  613.88  606.92\n",
      "  600.    593.12  586.28  579.48  572.72  566.    559.32  552.68  546.08\n",
      "  539.52  533.    526.52  520.08  513.68  507.32  501.    494.72  488.48\n",
      "  482.28  476.12  470.    463.92  457.88  451.88  445.92  440.    434.12\n",
      "  428.28  422.48  416.72  411.    405.32  399.68  394.08  388.52  383.\n",
      "  377.52  372.08  366.68  361.32  356.    350.72  345.48  340.28  335.12\n",
      "  330.    324.92  319.88  314.88  309.92  305.    300.12  295.28  290.48\n",
      "  285.72  281.    276.32  271.68  267.08  262.52  258.    253.52  249.08\n",
      "  244.68  240.32  236.    231.72  227.48  223.28  219.12  215.    210.92\n",
      "  206.88  202.88  198.92  195.    191.12  187.28  183.48  179.72  176.\n",
      "  172.32  168.68  165.08  161.52  158.    154.52  151.08  147.68  144.32\n",
      "  141.    137.72  134.48  131.28  128.12  125.    121.92  118.88  115.88\n",
      "  112.92  110.    107.12  104.28  101.48   98.72   96.     93.32   90.68\n",
      "   88.08   85.52   83.     80.52   78.08   75.68   73.32   71.     68.72\n",
      "   66.48   64.28   62.12   60.     57.92   55.88   53.88   51.92   50.\n",
      "   48.12   46.28   44.48   42.72   41.     39.32   37.68   36.08   34.52\n",
      "   33.     31.52   30.08   28.68   27.32   26.     24.72   23.48   22.28\n",
      "   21.12   20.     18.92   17.88   16.88   15.92   15.     14.12   13.28\n",
      "   12.48   11.72   11.     10.32    9.68    9.08    8.52    8.      7.52\n",
      "    7.08    6.68    6.32    6.      5.72    5.48    5.28    5.12    5.\n",
      "    4.92    4.88    4.88    4.92    5.      5.12    5.28    5.48    5.72\n",
      "    6.      6.32    6.68    7.08    7.52    8.      8.52    9.08    9.68\n",
      "   10.32   11.     11.72   12.48   13.28   14.12   15.     15.92   16.88\n",
      "   17.88   18.92   20.     21.12   22.28   23.48   24.72   26.     27.32\n",
      "   28.68   30.08   31.52   33.     34.52   36.08   37.68   39.32   41.\n",
      "   42.72   44.48   46.28   48.12   50.     51.92   53.88   55.88   57.92\n",
      "   60.     62.12   64.28   66.48   68.72   71.     73.32   75.68   78.08\n",
      "   80.52   83.     85.52   88.08   90.68   93.32   96.     98.72  101.48\n",
      "  104.28  107.12  110.    112.92  115.88  118.88  121.92  125.    128.12\n",
      "  131.28  134.48  137.72  141.    144.32  147.68  151.08  154.52  158.\n",
      "  161.52  165.08  168.68  172.32  176.    179.72  183.48  187.28  191.12\n",
      "  195.    198.92  202.88  206.88  210.92  215.    219.12  223.28  227.48\n",
      "  231.72  236.    240.32  244.68  249.08  253.52  258.    262.52  267.08\n",
      "  271.68  276.32  281.    285.72  290.48  295.28  300.12  305.    309.92\n",
      "  314.88  319.88  324.92  330.    335.12  340.28  345.48  350.72  356.\n",
      "  361.32  366.68  372.08  377.52  383.    388.52  394.08  399.68  405.32\n",
      "  411.    416.72  422.48  428.28  434.12  440.    445.92  451.88  457.88\n",
      "  463.92  470.    476.12  482.28  488.48  494.72  501.    507.32  513.68\n",
      "  520.08  526.52  533.    539.52  546.08  552.68  559.32  566.    572.72\n",
      "  579.48  586.28  593.12  600.    606.92  613.88  620.88  627.92  635.\n",
      "  642.12  649.28  656.48  663.72  671.    678.32  685.68  693.08  700.52\n",
      "  708.    715.52  723.08  730.68  738.32  746.    753.72  761.48  769.28\n",
      "  777.12  785.    792.92  800.88  808.88  816.92  825.    833.12  841.28\n",
      "  849.48  857.72  866.    874.32  882.68  891.08  899.52  908.    916.52\n",
      "  925.08  933.68  942.32  951.    959.72  968.48  977.28  986.12  995.\n",
      " 1003.92 1012.88 1021.88 1030.92 1040.   1049.12 1058.28 1067.48 1076.72\n",
      " 1086.   1095.32 1104.68 1114.08 1123.52 1133.   1142.52 1152.08 1161.68\n",
      " 1171.32 1181.   1190.72 1200.48 1210.28 1220.12 1230.   1239.92 1249.88\n",
      " 1259.88 1269.92 1280.   1290.12 1300.28 1310.48 1320.72 1331.   1341.32\n",
      " 1351.68 1362.08 1372.52 1383.   1393.52 1404.08 1414.68 1425.32 1436.\n",
      " 1446.72 1457.48 1468.28 1479.12 1490.   1500.92 1511.88 1522.88 1533.92\n",
      " 1545.   1556.12 1567.28 1578.48 1589.72 1601.   1612.32 1623.68 1635.08\n",
      " 1646.52 1658.   1669.52 1681.08 1692.68 1704.32 1716.   1727.72 1739.48\n",
      " 1751.28 1763.12 1775.   1786.92 1798.88 1810.88 1822.92 1835.   1847.12\n",
      " 1859.28 1871.48 1883.72 1896.   1908.32 1920.68 1933.08 1945.52 1958.\n",
      " 1970.52 1983.08 1995.68 2008.32 2021.   2033.72 2046.48 2059.28 2072.12\n",
      " 2085.   2097.92 2110.88 2123.88 2136.92 2150.   2163.12 2176.28 2189.48\n",
      " 2202.72 2216.   2229.32 2242.68 2256.08 2269.52 2283.   2296.52 2310.08\n",
      " 2323.68 2337.32 2351.   2364.72 2378.48 2392.28 2406.12 2420.   2433.92\n",
      " 2447.88 2461.88 2475.92 2490.   2504.12 2518.28 2532.48 2546.72 2561.\n",
      " 2575.32 2589.68 2604.08 2618.52 2633.   2647.52 2662.08 2676.68 2691.32\n",
      " 2706.   2720.72 2735.48 2750.28 2765.12 2780.   2794.92 2809.88 2824.88\n",
      " 2839.92 2855.   2870.12 2885.28 2900.48 2915.72 2931.   2946.32 2961.68\n",
      " 2977.08 2992.52 3008.   3023.52 3039.08 3054.68 3070.32 3086.   3101.72\n",
      " 3117.48 3133.28 3149.12 3165.   3180.92 3196.88 3212.88 3228.92]\n"
     ]
    }
   ],
   "source": [
    "y = poly_order2(x,2,1,5)\n",
    "print(y)"
   ]
  },
  {
   "cell_type": "markdown",
   "id": "9c6ce589",
   "metadata": {},
   "source": [
    "now lets plot x and y and show that it is quadratic"
   ]
  },
  {
   "cell_type": "code",
   "execution_count": 39,
   "id": "58fb8317",
   "metadata": {},
   "outputs": [
    {
     "data": {
      "application/vnd.jupyter.widget-view+json": {
       "model_id": "9d931c3721054546b5892d315bd3f115",
       "version_major": 2,
       "version_minor": 0
      },
      "text/plain": [
       "Canvas(toolbar=Toolbar(toolitems=[('Home', 'Reset original view', 'home', 'home'), ('Back', 'Back to previous …"
      ]
     },
     "metadata": {},
     "output_type": "display_data"
    }
   ],
   "source": [
    "p.figure()\n",
    "p.plot(x,y,'k-') #plot y vs x as a black line\n",
    "p.plot(x,poly_order2(x,2,1,1000),'r-') #lets also plot a red line using the same x, a, b, but c (the offset) is now 1000 instead of 5\n",
    "p.xlabel('x') ; p.ylabel('y')\n",
    "p.tight_layout()"
   ]
  },
  {
   "cell_type": "markdown",
   "id": "cc2d39a6",
   "metadata": {},
   "source": [
    "So now we should understand how to make a defintion/function. Lets now use it to figure out the value of the infiintie series $\\sum_{n=1}^{\\infty} \\frac{1}{2^n} = $?"
   ]
  },
  {
   "cell_type": "code",
   "execution_count": 44,
   "id": "c52d21f8",
   "metadata": {},
   "outputs": [],
   "source": [
    "def inf_series(num_iterations=2):\n",
    "    Y = [] #make an empty list that we will append on to\n",
    "    n = 1 #lets star n=1\n",
    "    for i in range(num_iterations):\n",
    "        Y.append(1/2**n) # this says Y = 1/2^n for this iteration \n",
    "        n = n+1 #this iterates n. Can also be written as n += 1\n",
    "        \n",
    "    print(Y) #lets print it so we can see what each iteration gives us\n",
    "    return sum(Y) #this sums up everything in the list (i.e. each iteration)\n",
    "    "
   ]
  },
  {
   "cell_type": "markdown",
   "id": "32580f49",
   "metadata": {},
   "source": [
    "now lets run this infinite series with only 2, 5, 100, and 1000 iterations"
   ]
  },
  {
   "cell_type": "code",
   "execution_count": 46,
   "id": "f1d14327",
   "metadata": {},
   "outputs": [
    {
     "name": "stdout",
     "output_type": "stream",
     "text": [
      "[0.5, 0.25]\n"
     ]
    },
    {
     "data": {
      "text/plain": [
       "0.75"
      ]
     },
     "execution_count": 46,
     "metadata": {},
     "output_type": "execute_result"
    }
   ],
   "source": [
    "inf_series(num_iterations=2)"
   ]
  },
  {
   "cell_type": "code",
   "execution_count": 47,
   "id": "dda28195",
   "metadata": {},
   "outputs": [
    {
     "name": "stdout",
     "output_type": "stream",
     "text": [
      "[0.5, 0.25, 0.125, 0.0625, 0.03125]\n"
     ]
    },
    {
     "data": {
      "text/plain": [
       "0.96875"
      ]
     },
     "execution_count": 47,
     "metadata": {},
     "output_type": "execute_result"
    }
   ],
   "source": [
    "inf_series(num_iterations=5)"
   ]
  },
  {
   "cell_type": "code",
   "execution_count": 48,
   "id": "a7d94f76",
   "metadata": {},
   "outputs": [
    {
     "name": "stdout",
     "output_type": "stream",
     "text": [
      "[0.5, 0.25, 0.125, 0.0625, 0.03125, 0.015625, 0.0078125, 0.00390625, 0.001953125, 0.0009765625, 0.00048828125, 0.000244140625, 0.0001220703125, 6.103515625e-05, 3.0517578125e-05, 1.52587890625e-05, 7.62939453125e-06, 3.814697265625e-06, 1.9073486328125e-06, 9.5367431640625e-07, 4.76837158203125e-07, 2.384185791015625e-07, 1.1920928955078125e-07, 5.960464477539063e-08, 2.9802322387695312e-08, 1.4901161193847656e-08, 7.450580596923828e-09, 3.725290298461914e-09, 1.862645149230957e-09, 9.313225746154785e-10, 4.656612873077393e-10, 2.3283064365386963e-10, 1.1641532182693481e-10, 5.820766091346741e-11, 2.9103830456733704e-11, 1.4551915228366852e-11, 7.275957614183426e-12, 3.637978807091713e-12, 1.8189894035458565e-12, 9.094947017729282e-13, 4.547473508864641e-13, 2.2737367544323206e-13, 1.1368683772161603e-13, 5.684341886080802e-14, 2.842170943040401e-14, 1.4210854715202004e-14, 7.105427357601002e-15, 3.552713678800501e-15, 1.7763568394002505e-15, 8.881784197001252e-16, 4.440892098500626e-16, 2.220446049250313e-16, 1.1102230246251565e-16, 5.551115123125783e-17, 2.7755575615628914e-17, 1.3877787807814457e-17, 6.938893903907228e-18, 3.469446951953614e-18, 1.734723475976807e-18, 8.673617379884035e-19, 4.336808689942018e-19, 2.168404344971009e-19, 1.0842021724855044e-19, 5.421010862427522e-20, 2.710505431213761e-20, 1.3552527156068805e-20, 6.776263578034403e-21, 3.3881317890172014e-21, 1.6940658945086007e-21, 8.470329472543003e-22, 4.235164736271502e-22, 2.117582368135751e-22, 1.0587911840678754e-22, 5.293955920339377e-23, 2.6469779601696886e-23, 1.3234889800848443e-23, 6.617444900424222e-24, 3.308722450212111e-24, 1.6543612251060553e-24, 8.271806125530277e-25, 4.1359030627651384e-25, 2.0679515313825692e-25, 1.0339757656912846e-25, 5.169878828456423e-26, 2.5849394142282115e-26, 1.2924697071141057e-26, 6.462348535570529e-27, 3.2311742677852644e-27, 1.6155871338926322e-27, 8.077935669463161e-28, 4.0389678347315804e-28, 2.0194839173657902e-28, 1.0097419586828951e-28, 5.048709793414476e-29, 2.524354896707238e-29, 1.262177448353619e-29, 6.310887241768095e-30, 3.1554436208840472e-30, 1.5777218104420236e-30, 7.888609052210118e-31]\n"
     ]
    },
    {
     "data": {
      "text/plain": [
       "1.0"
      ]
     },
     "execution_count": 48,
     "metadata": {},
     "output_type": "execute_result"
    }
   ],
   "source": [
    "inf_series(num_iterations=100)"
   ]
  },
  {
   "cell_type": "code",
   "execution_count": 49,
   "id": "ab36ec89",
   "metadata": {},
   "outputs": [
    {
     "name": "stdout",
     "output_type": "stream",
     "text": [
      "[0.5, 0.25, 0.125, 0.0625, 0.03125, 0.015625, 0.0078125, 0.00390625, 0.001953125, 0.0009765625, 0.00048828125, 0.000244140625, 0.0001220703125, 6.103515625e-05, 3.0517578125e-05, 1.52587890625e-05, 7.62939453125e-06, 3.814697265625e-06, 1.9073486328125e-06, 9.5367431640625e-07, 4.76837158203125e-07, 2.384185791015625e-07, 1.1920928955078125e-07, 5.960464477539063e-08, 2.9802322387695312e-08, 1.4901161193847656e-08, 7.450580596923828e-09, 3.725290298461914e-09, 1.862645149230957e-09, 9.313225746154785e-10, 4.656612873077393e-10, 2.3283064365386963e-10, 1.1641532182693481e-10, 5.820766091346741e-11, 2.9103830456733704e-11, 1.4551915228366852e-11, 7.275957614183426e-12, 3.637978807091713e-12, 1.8189894035458565e-12, 9.094947017729282e-13, 4.547473508864641e-13, 2.2737367544323206e-13, 1.1368683772161603e-13, 5.684341886080802e-14, 2.842170943040401e-14, 1.4210854715202004e-14, 7.105427357601002e-15, 3.552713678800501e-15, 1.7763568394002505e-15, 8.881784197001252e-16, 4.440892098500626e-16, 2.220446049250313e-16, 1.1102230246251565e-16, 5.551115123125783e-17, 2.7755575615628914e-17, 1.3877787807814457e-17, 6.938893903907228e-18, 3.469446951953614e-18, 1.734723475976807e-18, 8.673617379884035e-19, 4.336808689942018e-19, 2.168404344971009e-19, 1.0842021724855044e-19, 5.421010862427522e-20, 2.710505431213761e-20, 1.3552527156068805e-20, 6.776263578034403e-21, 3.3881317890172014e-21, 1.6940658945086007e-21, 8.470329472543003e-22, 4.235164736271502e-22, 2.117582368135751e-22, 1.0587911840678754e-22, 5.293955920339377e-23, 2.6469779601696886e-23, 1.3234889800848443e-23, 6.617444900424222e-24, 3.308722450212111e-24, 1.6543612251060553e-24, 8.271806125530277e-25, 4.1359030627651384e-25, 2.0679515313825692e-25, 1.0339757656912846e-25, 5.169878828456423e-26, 2.5849394142282115e-26, 1.2924697071141057e-26, 6.462348535570529e-27, 3.2311742677852644e-27, 1.6155871338926322e-27, 8.077935669463161e-28, 4.0389678347315804e-28, 2.0194839173657902e-28, 1.0097419586828951e-28, 5.048709793414476e-29, 2.524354896707238e-29, 1.262177448353619e-29, 6.310887241768095e-30, 3.1554436208840472e-30, 1.5777218104420236e-30, 7.888609052210118e-31, 3.944304526105059e-31, 1.9721522630525295e-31, 9.860761315262648e-32, 4.930380657631324e-32, 2.465190328815662e-32, 1.232595164407831e-32, 6.162975822039155e-33, 3.0814879110195774e-33, 1.5407439555097887e-33, 7.703719777548943e-34, 3.851859888774472e-34, 1.925929944387236e-34, 9.62964972193618e-35, 4.81482486096809e-35, 2.407412430484045e-35, 1.2037062152420224e-35, 6.018531076210112e-36, 3.009265538105056e-36, 1.504632769052528e-36, 7.52316384526264e-37, 3.76158192263132e-37, 1.88079096131566e-37, 9.4039548065783e-38, 4.70197740328915e-38, 2.350988701644575e-38, 1.1754943508222875e-38, 5.877471754111438e-39, 2.938735877055719e-39, 1.4693679385278594e-39, 7.346839692639297e-40, 3.6734198463196485e-40, 1.8367099231598242e-40, 9.183549615799121e-41, 4.591774807899561e-41, 2.2958874039497803e-41, 1.1479437019748901e-41, 5.739718509874451e-42, 2.8698592549372254e-42, 1.4349296274686127e-42, 7.174648137343064e-43, 3.587324068671532e-43, 1.793662034335766e-43, 8.96831017167883e-44, 4.484155085839415e-44, 2.2420775429197073e-44, 1.1210387714598537e-44, 5.605193857299268e-45, 2.802596928649634e-45, 1.401298464324817e-45, 7.006492321624085e-46, 3.503246160812043e-46, 1.7516230804060213e-46, 8.758115402030107e-47, 4.3790577010150533e-47, 2.1895288505075267e-47, 1.0947644252537633e-47, 5.473822126268817e-48, 2.7369110631344083e-48, 1.3684555315672042e-48, 6.842277657836021e-49, 3.4211388289180104e-49, 1.7105694144590052e-49, 8.552847072295026e-50, 4.276423536147513e-50, 2.1382117680737565e-50, 1.0691058840368783e-50, 5.345529420184391e-51, 2.6727647100921956e-51, 1.3363823550460978e-51, 6.681911775230489e-52, 3.3409558876152446e-52, 1.6704779438076223e-52, 8.352389719038111e-53, 4.176194859519056e-53, 2.088097429759528e-53, 1.044048714879764e-53, 5.22024357439882e-54, 2.61012178719941e-54, 1.305060893599705e-54, 6.525304467998525e-55, 3.2626522339992623e-55, 1.6313261169996311e-55, 8.156630584998156e-56, 4.078315292499078e-56, 2.039157646249539e-56, 1.0195788231247695e-56, 5.0978941156238473e-57, 2.5489470578119236e-57, 1.2744735289059618e-57, 6.372367644529809e-58, 3.1861838222649046e-58, 1.5930919111324523e-58, 7.965459555662261e-59, 3.982729777831131e-59, 1.9913648889155653e-59, 9.956824444577827e-60, 4.9784122222889134e-60, 2.4892061111444567e-60, 1.2446030555722283e-60, 6.223015277861142e-61, 3.111507638930571e-61, 1.5557538194652854e-61, 7.778769097326427e-62, 3.8893845486632136e-62, 1.9446922743316068e-62, 9.723461371658034e-63, 4.861730685829017e-63, 2.4308653429145085e-63, 1.2154326714572542e-63, 6.077163357286271e-64, 3.0385816786431356e-64, 1.5192908393215678e-64, 7.596454196607839e-65, 3.7982270983039195e-65, 1.8991135491519597e-65, 9.495567745759799e-66, 4.7477838728798994e-66, 2.3738919364399497e-66, 1.1869459682199748e-66, 5.934729841099874e-67, 2.967364920549937e-67, 1.4836824602749686e-67, 7.418412301374843e-68, 3.7092061506874214e-68, 1.8546030753437107e-68, 9.273015376718553e-69, 4.636507688359277e-69, 2.3182538441796384e-69, 1.1591269220898192e-69, 5.795634610449096e-70, 2.897817305224548e-70, 1.448908652612274e-70, 7.24454326306137e-71, 3.622271631530685e-71, 1.8111358157653425e-71, 9.055679078826712e-72, 4.527839539413356e-72, 2.263919769706678e-72, 1.131959884853339e-72, 5.659799424266695e-73, 2.8298997121333476e-73, 1.4149498560666738e-73, 7.074749280333369e-74, 3.5373746401666845e-74, 1.7686873200833423e-74, 8.843436600416711e-75, 4.421718300208356e-75, 2.210859150104178e-75, 1.105429575052089e-75, 5.527147875260445e-76, 2.7635739376302223e-76, 1.3817869688151111e-76, 6.908934844075556e-77, 3.454467422037778e-77, 1.727233711018889e-77, 8.636168555094445e-78, 4.3180842775472223e-78, 2.1590421387736112e-78, 1.0795210693868056e-78, 5.397605346934028e-79, 2.698802673467014e-79, 1.349401336733507e-79, 6.747006683667535e-80, 3.3735033418337674e-80, 1.6867516709168837e-80, 8.433758354584419e-81, 4.2168791772922093e-81, 2.1084395886461046e-81, 1.0542197943230523e-81, 5.271098971615262e-82, 2.635549485807631e-82, 1.3177747429038154e-82, 6.588873714519077e-83, 3.2944368572595385e-83, 1.6472184286297693e-83, 8.236092143148846e-84, 4.118046071574423e-84, 2.0590230357872116e-84, 1.0295115178936058e-84, 5.147557589468029e-85, 2.5737787947340145e-85, 1.2868893973670072e-85, 6.434446986835036e-86, 3.217223493417518e-86, 1.608611746708759e-86, 8.043058733543795e-87, 4.021529366771898e-87, 2.010764683385949e-87, 1.0053823416929744e-87, 5.026911708464872e-88, 2.513455854232436e-88, 1.256727927116218e-88, 6.28363963558109e-89, 3.141819817790545e-89, 1.5709099088952725e-89, 7.854549544476363e-90, 3.9272747722381812e-90, 1.9636373861190906e-90, 9.818186930595453e-91, 4.909093465297727e-91, 2.4545467326488633e-91, 1.2272733663244316e-91, 6.136366831622158e-92, 3.068183415811079e-92, 1.5340917079055395e-92, 7.670458539527698e-93, 3.835229269763849e-93, 1.9176146348819244e-93, 9.588073174409622e-94, 4.794036587204811e-94, 2.3970182936024055e-94, 1.1985091468012028e-94, 5.992545734006014e-95, 2.996272867003007e-95, 1.4981364335015035e-95, 7.490682167507517e-96, 3.745341083753759e-96, 1.8726705418768793e-96, 9.363352709384397e-97, 4.6816763546921983e-97, 2.3408381773460992e-97, 1.1704190886730496e-97, 5.852095443365248e-98, 2.926047721682624e-98, 1.463023860841312e-98, 7.31511930420656e-99, 3.65755965210328e-99, 1.82877982605164e-99, 9.1438991302582e-100, 4.5719495651291e-100, 2.28597478256455e-100, 1.142987391282275e-100, 5.714936956411375e-101, 2.8574684782056875e-101, 1.4287342391028437e-101, 7.143671195514219e-102, 3.5718355977571093e-102, 1.7859177988785547e-102, 8.929588994392773e-103, 4.464794497196387e-103, 2.2323972485981933e-103, 1.1161986242990967e-103, 5.5809931214954833e-104, 2.7904965607477417e-104, 1.3952482803738708e-104, 6.976241401869354e-105, 3.488120700934677e-105, 1.7440603504673385e-105, 8.720301752336693e-106, 4.3601508761683463e-106, 2.1800754380841732e-106, 1.0900377190420866e-106, 5.450188595210433e-107, 2.7250942976052165e-107, 1.3625471488026082e-107, 6.812735744013041e-108, 3.4063678720065206e-108, 1.7031839360032603e-108, 8.515919680016301e-109, 4.257959840008151e-109, 2.1289799200040754e-109, 1.0644899600020377e-109, 5.3224498000101884e-110, 2.6612249000050942e-110, 1.3306124500025471e-110, 6.653062250012736e-111, 3.326531125006368e-111, 1.663265562503184e-111, 8.31632781251592e-112, 4.15816390625796e-112, 2.07908195312898e-112, 1.03954097656449e-112, 5.19770488282245e-113, 2.598852441411225e-113, 1.2994262207056124e-113, 6.497131103528062e-114, 3.248565551764031e-114, 1.6242827758820155e-114, 8.121413879410078e-115, 4.060706939705039e-115, 2.0303534698525194e-115, 1.0151767349262597e-115, 5.075883674631299e-116, 2.5379418373156492e-116, 1.2689709186578246e-116, 6.344854593289123e-117, 3.1724272966445615e-117, 1.5862136483222808e-117, 7.931068241611404e-118, 3.965534120805702e-118, 1.982767060402851e-118, 9.913835302014255e-119, 4.9569176510071274e-119, 2.4784588255035637e-119, 1.2392294127517818e-119, 6.196147063758909e-120, 3.0980735318794546e-120, 1.5490367659397273e-120, 7.745183829698637e-121, 3.8725919148493183e-121, 1.9362959574246591e-121, 9.681479787123296e-122, 4.840739893561648e-122, 2.420369946780824e-122, 1.210184973390412e-122, 6.05092486695206e-123, 3.02546243347603e-123, 1.512731216738015e-123, 7.563656083690075e-124, 3.7818280418450374e-124, 1.8909140209225187e-124, 9.454570104612593e-125, 4.727285052306297e-125, 2.3636425261531484e-125, 1.1818212630765742e-125, 5.909106315382871e-126, 2.9545531576914354e-126, 1.4772765788457177e-126, 7.386382894228589e-127, 3.6931914471142943e-127, 1.8465957235571472e-127, 9.232978617785736e-128, 4.616489308892868e-128, 2.308244654446434e-128, 1.154122327223217e-128, 5.770611636116085e-129, 2.8853058180580424e-129, 1.4426529090290212e-129, 7.213264545145106e-130, 3.606632272572553e-130, 1.8033161362862765e-130, 9.016580681431383e-131, 4.5082903407156913e-131, 2.2541451703578456e-131, 1.1270725851789228e-131, 5.635362925894614e-132, 2.817681462947307e-132, 1.4088407314736535e-132, 7.044203657368268e-133, 3.522101828684134e-133, 1.761050914342067e-133, 8.805254571710335e-134, 4.4026272858551673e-134, 2.2013136429275836e-134, 1.1006568214637918e-134, 5.503284107318959e-135, 2.7516420536594796e-135, 1.3758210268297398e-135, 6.879105134148699e-136, 3.4395525670743494e-136, 1.7197762835371747e-136, 8.598881417685874e-137, 4.299440708842937e-137, 2.1497203544214684e-137, 1.0748601772107342e-137, 5.374300886053671e-138, 2.6871504430268355e-138, 1.3435752215134178e-138, 6.717876107567089e-139, 3.3589380537835444e-139, 1.6794690268917722e-139, 8.397345134458861e-140, 4.1986725672294305e-140, 2.0993362836147152e-140, 1.0496681418073576e-140, 5.248340709036788e-141, 2.624170354518394e-141, 1.312085177259197e-141, 6.560425886295985e-142, 3.2802129431479926e-142, 1.6401064715739963e-142, 8.200532357869981e-143, 4.100266178934991e-143, 2.0501330894674953e-143, 1.0250665447337477e-143, 5.1253327236687384e-144, 2.5626663618343692e-144, 1.2813331809171846e-144, 6.406665904585923e-145, 3.2033329522929615e-145, 1.6016664761464807e-145, 8.008332380732404e-146, 4.004166190366202e-146, 2.002083095183101e-146, 1.0010415475915505e-146, 5.0052077379577523e-147, 2.5026038689788762e-147, 1.2513019344894381e-147, 6.256509672447191e-148, 3.1282548362235952e-148, 1.5641274181117976e-148, 7.820637090558988e-149, 3.910318545279494e-149, 1.955159272639747e-149, 9.775796363198735e-150, 4.887898181599368e-150, 2.443949090799684e-150, 1.221974545399842e-150, 6.10987272699921e-151, 3.054936363499605e-151, 1.5274681817498023e-151, 7.637340908749012e-152, 3.818670454374506e-152, 1.909335227187253e-152, 9.546676135936265e-153, 4.7733380679681323e-153, 2.3866690339840662e-153, 1.1933345169920331e-153, 5.966672584960166e-154, 2.983336292480083e-154, 1.4916681462400413e-154, 7.458340731200207e-155, 3.7291703656001034e-155, 1.8645851828000517e-155, 9.322925914000258e-156, 4.661462957000129e-156, 2.3307314785000646e-156, 1.1653657392500323e-156, 5.826828696250162e-157, 2.913414348125081e-157, 1.4567071740625404e-157, 7.283535870312702e-158, 3.641767935156351e-158, 1.8208839675781755e-158, 9.104419837890877e-159, 4.552209918945439e-159, 2.2761049594727193e-159, 1.1380524797363597e-159, 5.6902623986817984e-160, 2.8451311993408992e-160, 1.4225655996704496e-160, 7.112827998352248e-161, 3.556413999176124e-161, 1.778206999588062e-161, 8.89103499794031e-162, 4.445517498970155e-162, 2.2227587494850775e-162, 1.1113793747425387e-162, 5.556896873712694e-163, 2.778448436856347e-163, 1.3892242184281734e-163, 6.946121092140867e-164, 3.4730605460704336e-164, 1.7365302730352168e-164, 8.682651365176084e-165, 4.341325682588042e-165, 2.170662841294021e-165, 1.0853314206470105e-165, 5.426657103235053e-166, 2.7133285516175262e-166, 1.3566642758087631e-166, 6.783321379043816e-167, 3.391660689521908e-167, 1.695830344760954e-167, 8.47915172380477e-168, 4.239575861902385e-168, 2.1197879309511924e-168, 1.0598939654755962e-168, 5.299469827377981e-169, 2.6497349136889905e-169, 1.3248674568444952e-169, 6.624337284222476e-170, 3.312168642111238e-170, 1.656084321055619e-170, 8.280421605278095e-171, 4.140210802639048e-171, 2.070105401319524e-171, 1.035052700659762e-171, 5.17526350329881e-172, 2.587631751649405e-172, 1.2938158758247024e-172, 6.469079379123512e-173, 3.234539689561756e-173, 1.617269844780878e-173, 8.08634922390439e-174, 4.043174611952195e-174, 2.0215873059760975e-174, 1.0107936529880487e-174, 5.053968264940244e-175, 2.526984132470122e-175, 1.263492066235061e-175, 6.317460331175305e-176, 3.1587301655876523e-176, 1.5793650827938261e-176, 7.896825413969131e-177, 3.9484127069845653e-177, 1.9742063534922827e-177, 9.871031767461413e-178, 4.935515883730707e-178, 2.4677579418653533e-178, 1.2338789709326767e-178, 6.169394854663383e-179, 3.084697427331692e-179, 1.542348713665846e-179, 7.71174356832923e-180, 3.855871784164615e-180, 1.9279358920823073e-180, 9.639679460411536e-181, 4.819839730205768e-181, 2.409919865102884e-181, 1.204959932551442e-181, 6.02479966275721e-182, 3.012399831378605e-182, 1.5061999156893026e-182, 7.530999578446513e-183, 3.7654997892232564e-183, 1.8827498946116282e-183, 9.413749473058141e-184, 4.706874736529071e-184, 2.3534373682645353e-184, 1.1767186841322676e-184, 5.883593420661338e-185, 2.941796710330669e-185, 1.4708983551653345e-185, 7.354491775826673e-186, 3.6772458879133364e-186, 1.8386229439566682e-186, 9.193114719783341e-187, 4.5965573598916705e-187, 2.2982786799458352e-187, 1.1491393399729176e-187, 5.745696699864588e-188, 2.872848349932294e-188, 1.436424174966147e-188, 7.182120874830735e-189, 3.5910604374153675e-189, 1.7955302187076838e-189, 8.977651093538419e-190, 4.4888255467692094e-190, 2.2444127733846047e-190, 1.1222063866923024e-190, 5.611031933461512e-191, 2.805515966730756e-191, 1.402757983365378e-191, 7.01378991682689e-192, 3.506894958413445e-192, 1.7534474792067224e-192, 8.767237396033612e-193, 4.383618698016806e-193, 2.191809349008403e-193, 1.0959046745042015e-193, 5.479523372521008e-194, 2.739761686260504e-194, 1.369880843130252e-194, 6.84940421565126e-195, 3.42470210782563e-195, 1.712351053912815e-195, 8.561755269564074e-196, 4.280877634782037e-196, 2.1404388173910186e-196, 1.0702194086955093e-196, 5.351097043477547e-197, 2.6755485217387732e-197, 1.3377742608693866e-197, 6.688871304346933e-198, 3.3444356521734666e-198, 1.6722178260867333e-198, 8.361089130433666e-199, 4.180544565216833e-199, 2.0902722826084166e-199, 1.0451361413042083e-199, 5.225680706521042e-200, 2.612840353260521e-200, 1.3064201766302604e-200, 6.532100883151302e-201, 3.266050441575651e-201, 1.6330252207878255e-201, 8.165126103939127e-202, 4.082563051969564e-202, 2.041281525984782e-202, 1.020640762992391e-202, 5.103203814961955e-203, 2.5516019074809773e-203, 1.2758009537404886e-203, 6.379004768702443e-204, 3.1895023843512216e-204, 1.5947511921756108e-204, 7.973755960878054e-205, 3.986877980439027e-205, 1.9934389902195135e-205, 9.967194951097568e-206, 4.983597475548784e-206, 2.491798737774392e-206, 1.245899368887196e-206, 6.22949684443598e-207, 3.11474842221799e-207, 1.557374211108995e-207, 7.786871055544975e-208, 3.8934355277724873e-208, 1.9467177638862437e-208, 9.733588819431218e-209, 4.866794409715609e-209, 2.4333972048578046e-209, 1.2166986024289023e-209, 6.083493012144512e-210, 3.041746506072256e-210, 1.520873253036128e-210, 7.60436626518064e-211, 3.80218313259032e-211, 1.90109156629516e-211, 9.5054578314758e-212, 4.7527289157379e-212, 2.37636445786895e-212, 1.188182228934475e-212, 5.940911144672375e-213, 2.9704555723361872e-213, 1.4852277861680936e-213, 7.426138930840468e-214, 3.713069465420234e-214, 1.856534732710117e-214, 9.282673663550585e-215, 4.641336831775293e-215, 2.3206684158876463e-215, 1.1603342079438231e-215, 5.801671039719116e-216, 2.900835519859558e-216, 1.450417759929779e-216, 7.252088799648895e-217, 3.6260443998244473e-217, 1.8130221999122236e-217, 9.065110999561118e-218, 4.532555499780559e-218, 2.2662777498902796e-218, 1.1331388749451398e-218, 5.665694374725699e-219, 2.8328471873628494e-219, 1.4164235936814247e-219, 7.082117968407124e-220, 3.541058984203562e-220, 1.770529492101781e-220, 8.852647460508905e-221, 4.4263237302544523e-221, 2.2131618651272261e-221, 1.1065809325636131e-221, 5.5329046628180653e-222, 2.7664523314090327e-222, 1.3832261657045163e-222, 6.916130828522582e-223, 3.458065414261291e-223, 1.7290327071306454e-223, 8.645163535653227e-224, 4.322581767826614e-224, 2.161290883913307e-224, 1.0806454419566534e-224, 5.403227209783267e-225, 2.7016136048916335e-225, 1.3508068024458167e-225, 6.754034012229084e-226, 3.377017006114542e-226, 1.688508503057271e-226, 8.442542515286355e-227, 4.2212712576431773e-227, 2.1106356288215886e-227, 1.0553178144107943e-227, 5.276589072053972e-228, 2.638294536026986e-228, 1.319147268013493e-228, 6.595736340067465e-229, 3.2978681700337323e-229, 1.6489340850168661e-229, 8.244670425084331e-230, 4.1223352125421653e-230, 2.0611676062710827e-230, 1.0305838031355413e-230, 5.152919015677707e-231, 2.5764595078388533e-231, 1.2882297539194267e-231, 6.441148769597133e-232, 3.220574384798567e-232, 1.6102871923992833e-232, 8.051435961996417e-233, 4.0257179809982083e-233, 2.0128589904991042e-233, 1.0064294952495521e-233, 5.0321474762477604e-234, 2.5160737381238802e-234, 1.2580368690619401e-234, 6.290184345309701e-235, 3.1450921726548502e-235, 1.5725460863274251e-235, 7.862730431637126e-236, 3.931365215818563e-236, 1.9656826079092814e-236, 9.828413039546407e-237, 4.914206519773204e-237, 2.457103259886602e-237, 1.228551629943301e-237, 6.142758149716505e-238, 3.0713790748582522e-238, 1.5356895374291261e-238, 7.678447687145631e-239, 3.8392238435728152e-239, 1.9196119217864076e-239, 9.598059608932038e-240, 4.799029804466019e-240, 2.3995149022330095e-240, 1.1997574511165048e-240, 5.998787255582524e-241, 2.999393627791262e-241, 1.499696813895631e-241, 7.498484069478155e-242, 3.7492420347390774e-242, 1.8746210173695387e-242, 9.373105086847693e-243, 4.686552543423847e-243, 2.3432762717119234e-243, 1.1716381358559617e-243, 5.858190679279809e-244, 2.9290953396399042e-244, 1.4645476698199521e-244, 7.322738349099761e-245, 3.6613691745498803e-245, 1.8306845872749401e-245, 9.153422936374701e-246, 4.5767114681873503e-246, 2.2883557340936752e-246, 1.1441778670468376e-246, 5.720889335234188e-247, 2.860444667617094e-247, 1.430222333808547e-247, 7.151111669042735e-248, 3.5755558345213674e-248, 1.7877779172606837e-248, 8.938889586303419e-249, 4.4694447931517093e-249, 2.2347223965758547e-249, 1.1173611982879273e-249, 5.586805991439637e-250, 2.7934029957198183e-250, 1.3967014978599092e-250, 6.983507489299546e-251, 3.491753744649773e-251, 1.7458768723248864e-251, 8.729384361624432e-252, 4.364692180812216e-252, 2.182346090406108e-252, 1.091173045203054e-252, 5.45586522601527e-253, 2.727932613007635e-253, 1.3639663065038175e-253, 6.819831532519088e-254, 3.409915766259544e-254, 1.704957883129772e-254, 8.52478941564886e-255, 4.26239470782443e-255, 2.131197353912215e-255, 1.0655986769561075e-255, 5.327993384780537e-256, 2.6639966923902686e-256, 1.3319983461951343e-256, 6.659991730975672e-257, 3.329995865487836e-257, 1.664997932743918e-257, 8.32498966371959e-258, 4.162494831859795e-258, 2.0812474159298974e-258, 1.0406237079649487e-258, 5.2031185398247434e-259, 2.6015592699123717e-259, 1.3007796349561859e-259, 6.503898174780929e-260, 3.2519490873904646e-260, 1.6259745436952323e-260, 8.129872718476162e-261, 4.064936359238081e-261, 2.0324681796190404e-261, 1.0162340898095202e-261, 5.081170449047601e-262, 2.5405852245238005e-262, 1.2702926122619002e-262, 6.351463061309501e-263, 3.1757315306547506e-263, 1.5878657653273753e-263, 7.939328826636877e-264, 3.9696644133184383e-264, 1.9848322066592191e-264, 9.924161033296096e-265, 4.962080516648048e-265, 2.481040258324024e-265, 1.240520129162012e-265, 6.20260064581006e-266, 3.10130032290503e-266, 1.550650161452515e-266, 7.753250807262575e-267, 3.8766254036312874e-267, 1.9383127018156437e-267, 9.691563509078218e-268, 4.845781754539109e-268, 2.4228908772695546e-268, 1.2114454386347773e-268, 6.057227193173887e-269, 3.0286135965869433e-269, 1.5143067982934716e-269, 7.571533991467358e-270, 3.785766995733679e-270, 1.8928834978668395e-270, 9.464417489334198e-271, 4.732208744667099e-271, 2.3661043723335494e-271, 1.1830521861667747e-271, 5.915260930833874e-272, 2.957630465416937e-272, 1.4788152327084684e-272, 7.394076163542342e-273, 3.697038081771171e-273, 1.8485190408855855e-273, 9.242595204427927e-274, 4.621297602213964e-274, 2.310648801106982e-274, 1.155324400553491e-274, 5.776622002767455e-275, 2.8883110013837273e-275, 1.4441555006918637e-275, 7.220777503459318e-276, 3.610388751729659e-276, 1.8051943758648296e-276, 9.025971879324148e-277, 4.512985939662074e-277, 2.256492969831037e-277, 1.1282464849155185e-277, 5.641232424577593e-278, 2.8206162122887962e-278, 1.4103081061443981e-278, 7.051540530721991e-279, 3.5257702653609953e-279, 1.7628851326804976e-279, 8.814425663402488e-280, 4.407212831701244e-280, 2.203606415850622e-280, 1.101803207925311e-280, 5.509016039626555e-281, 2.7545080198132776e-281, 1.3772540099066388e-281, 6.886270049533194e-282, 3.443135024766597e-282, 1.7215675123832985e-282, 8.607837561916492e-283, 4.303918780958246e-283, 2.151959390479123e-283, 1.0759796952395615e-283, 5.379898476197808e-284, 2.689949238098904e-284, 1.344974619049452e-284, 6.72487309524726e-285, 3.36243654762363e-285, 1.681218273811815e-285, 8.406091369059075e-286, 4.2030456845295373e-286, 2.1015228422647686e-286, 1.0507614211323843e-286, 5.253807105661922e-287, 2.626903552830961e-287, 1.3134517764154804e-287, 6.567258882077402e-288, 3.283629441038701e-288, 1.6418147205193505e-288, 8.209073602596753e-289, 4.1045368012983762e-289, 2.0522684006491881e-289, 1.0261342003245941e-289, 5.1306710016229703e-290, 2.5653355008114852e-290, 1.2826677504057426e-290, 6.413338752028713e-291, 3.2066693760143564e-291, 1.6033346880071782e-291, 8.016673440035891e-292, 4.008336720017946e-292, 2.004168360008973e-292, 1.0020841800044864e-292, 5.010420900022432e-293, 2.505210450011216e-293, 1.252605225005608e-293, 6.26302612502804e-294, 3.13151306251402e-294, 1.56575653125701e-294, 7.82878265628505e-295, 3.914391328142525e-295, 1.9571956640712625e-295, 9.785978320356312e-296, 4.892989160178156e-296, 2.446494580089078e-296, 1.223247290044539e-296, 6.116236450222695e-297, 3.0581182251113476e-297, 1.5290591125556738e-297, 7.645295562778369e-298, 3.8226477813891845e-298, 1.9113238906945923e-298, 9.556619453472961e-299, 4.778309726736481e-299, 2.3891548633682403e-299, 1.1945774316841202e-299, 5.972887158420601e-300, 2.9864435792103004e-300, 1.4932217896051502e-300, 7.466108948025751e-301, 3.7330544740128755e-301, 1.8665272370064378e-301, 9.332636185032189e-302]\n"
     ]
    },
    {
     "data": {
      "text/plain": [
       "1.0"
      ]
     },
     "execution_count": 49,
     "metadata": {},
     "output_type": "execute_result"
    }
   ],
   "source": [
    "inf_series(num_iterations=1000)"
   ]
  },
  {
   "cell_type": "markdown",
   "id": "7543655b",
   "metadata": {},
   "source": [
    "Clearly we can see this infinite series will reduce to 1 as expected. i.e. $\\sum_{n=1}^{\\infty} \\frac{1}{2^n} = 1$"
   ]
  },
  {
   "cell_type": "code",
   "execution_count": null,
   "id": "bcf45ac0",
   "metadata": {},
   "outputs": [],
   "source": []
  }
 ],
 "metadata": {
  "kernelspec": {
   "display_name": "Python 3",
   "language": "python",
   "name": "python3"
  },
  "language_info": {
   "codemirror_mode": {
    "name": "ipython",
    "version": 3
   },
   "file_extension": ".py",
   "mimetype": "text/x-python",
   "name": "python",
   "nbconvert_exporter": "python",
   "pygments_lexer": "ipython3",
   "version": "3.8.8"
  }
 },
 "nbformat": 4,
 "nbformat_minor": 5
}

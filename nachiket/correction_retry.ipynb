{
 "cells": [
  {
   "cell_type": "code",
   "execution_count": 1,
   "metadata": {},
   "outputs": [],
   "source": [
    "#Imports\n",
    "import numpy as np\n",
    "from astropy.table import Table\n",
    "import matplotlib.pyplot as plt\n",
    "import os\n",
    "from scipy.interpolate import interp1d, CubicSpline\n",
    "from tqdm import tqdm\n",
    "import warnings\n",
    "\n",
    "\n",
    "%matplotlib inline"
   ]
  },
  {
   "cell_type": "code",
   "execution_count": 2,
   "metadata": {},
   "outputs": [
    {
     "name": "stdout",
     "output_type": "stream",
     "text": [
      "ALPHA_FE\n",
      "ALPHA_FE_ERR\n",
      "AL_FE\n",
      "AL_FE_ERR\n",
      "AL_FE_FLAG\n",
      "AL_FE_GRADCORR\n",
      "BA_FE\n",
      "BA_FE_ERR\n",
      "BA_FE_FLAG\n",
      "BA_FE_GRADCORR\n",
      "CA_FE\n",
      "CA_FE_ERR\n",
      "CA_FE_FLAG\n",
      "CA_FE_GRADCORR\n",
      "CHI2\n",
      "CHI2RATIO\n",
      "CHI2RATIO_NA\n",
      "CHI2_NA\n",
      "CO_FE\n",
      "CO_FE_ERR\n",
      "CO_FE_FLAG\n",
      "CO_FE_GRADCORR\n",
      "CR_FE\n",
      "CR_FE_ERR\n",
      "CR_FE_FLAG\n",
      "CR_FE_GRADCORR\n",
      "CU_FE\n",
      "CU_FE_ERR\n",
      "CU_FE_FLAG\n",
      "CU_FE_GRADCORR\n",
      "C_FE\n",
      "C_FE_ERR\n",
      "C_FE_FLAG\n",
      "C_FE_GRADCORR\n",
      "DEC_1\n",
      "Dec\n",
      "FEH\n",
      "FEH_ERR\n",
      "FEH_FLAG\n",
      "FEH_GRADCORR\n",
      "FILENAME_2\n",
      "FLAG_SINGLESTAR\n",
      "LOGG\n",
      "LOGG_ERR\n",
      "LOGG_FLAG\n",
      "LOGG_GRADCORR\n",
      "MG_FE\n",
      "MG_FE_ERR\n",
      "MG_FE_FLAG\n",
      "MG_FE_GRADCORR\n",
      "MN_FE\n",
      "MN_FE_ERR\n",
      "MN_FE_FLAG\n",
      "MN_FE_GRADCORR\n",
      "NA_FE\n",
      "NA_FE_ERR\n",
      "NA_FE_FLAG\n",
      "NA_FE_GRADCORR\n",
      "NI_FE\n",
      "NI_FE_ERR\n",
      "NI_FE_FLAG\n",
      "NI_FE_GRADCORR\n",
      "N_FE\n",
      "N_FE_ERR\n",
      "N_FE_FLAG\n",
      "N_FE_GRADCORR\n",
      "O_FE\n",
      "O_FE_ERR\n",
      "O_FE_FLAG\n",
      "O_FE_GRADCORR\n",
      "ObjID_2\n",
      "QFLAG_CHI2\n",
      "QFLAG_CHI2NA\n",
      "RA\n",
      "RA_1\n",
      "RV_1\n",
      "RV_2\n",
      "RV_ERR\n",
      "SI_FE\n",
      "SI_FE_ERR\n",
      "SI_FE_FLAG\n",
      "SI_FE_GRADCORR\n",
      "SNR_DPARALLAX\n",
      "SNR_G\n",
      "SNR_I\n",
      "SNR_R\n",
      "SNR_U\n",
      "SNR_Z\n",
      "SPECID_1\n",
      "STARID\n",
      "SUBCLASS\n",
      "Separation\n",
      "Separation_2\n",
      "TEFF\n",
      "TEFF_ERR\n",
      "TEFF_FLAG\n",
      "TEFF_GRADCORR\n",
      "TI_FE\n",
      "TI_FE_ERR\n",
      "TI_FE_FLAG\n",
      "TI_FE_GRADCORR\n",
      "UQFLAG\n",
      "VMIC\n",
      "VMIC_ERR\n",
      "VMIC_FLAG\n",
      "VMIC_GRADCORR\n",
      "astrometric_chi2_al\n",
      "astrometric_excess_noise\n",
      "astrometric_excess_noise_sig\n",
      "astrometric_gof_al\n",
      "astrometric_matched_transits\n",
      "astrometric_n_bad_obs_al\n",
      "astrometric_n_good_obs_al\n",
      "astrometric_n_obs_ac\n",
      "astrometric_n_obs_al\n",
      "astrometric_params_solved\n",
      "astrometric_primary_flag\n",
      "astrometric_sigma5d_max\n",
      "b\n",
      "barycor\n",
      "barycorr\n",
      "bp_g\n",
      "bp_rp\n",
      "chi2_galaxy\n",
      "chi2_qso\n",
      "chi2_star\n",
      "classification\n",
      "dec_2\n",
      "dec_error\n",
      "dec_parallax_corr\n",
      "dec_pmdec_corr\n",
      "dec_pmra_corr\n",
      "dec_pseudocolour_corr\n",
      "designation\n",
      "dist\n",
      "dr2_radial_velocity\n",
      "dr2_radial_velocity_error\n",
      "dr2_rv_nb_transits\n",
      "dr2_rv_template_fe_h\n",
      "dr2_rv_template_logg\n",
      "dr2_rv_template_teff\n",
      "duplicated_source\n",
      "ecl_lat\n",
      "ecl_lon\n",
      "exptime\n",
      "filename_1\n",
      "g_rp\n",
      "gmag\n",
      "imag\n",
      "index_in_file\n",
      "ipd_frac_multi_peak\n",
      "ipd_frac_odd_win\n",
      "ipd_gof_harmonic_amplitude\n",
      "ipd_gof_harmonic_phase\n",
      "l\n",
      "matched_transits\n",
      "matched_transits_removed\n",
      "mjd\n",
      "new_matched_transits\n",
      "nu_eff_used_in_astrometry\n",
      "objID_1\n",
      "parallax\n",
      "parallax_error\n",
      "parallax_over_error\n",
      "parallax_pmdec_corr\n",
      "parallax_pmra_corr\n",
      "parallax_pseudocolour_corr\n",
      "phot_bp_mean_flux\n",
      "phot_bp_mean_flux_error\n",
      "phot_bp_mean_flux_over_error\n",
      "phot_bp_mean_mag\n",
      "phot_bp_n_blended_transits\n",
      "phot_bp_n_contaminated_transits\n",
      "phot_bp_n_obs\n",
      "phot_bp_rp_excess_factor\n",
      "phot_g_mean_flux\n",
      "phot_g_mean_flux_error\n",
      "phot_g_mean_flux_over_error\n",
      "phot_g_mean_mag\n",
      "phot_g_n_obs\n",
      "phot_proc_mode\n",
      "phot_rp_mean_flux\n",
      "phot_rp_mean_flux_error\n",
      "phot_rp_mean_flux_over_error\n",
      "phot_rp_mean_mag\n",
      "phot_rp_n_blended_transits\n",
      "phot_rp_n_contaminated_transits\n",
      "phot_rp_n_obs\n",
      "pm\n",
      "pmdec\n",
      "pmdec_error\n",
      "pmdec_pseudocolour_corr\n",
      "pmra\n",
      "pmra_error\n",
      "pmra_pmdec_corr\n",
      "pmra_pseudocolour_corr\n",
      "pseudocolour\n",
      "pseudocolour_error\n",
      "ra_2\n",
      "ra_dec_corr\n",
      "ra_error\n",
      "ra_parallax_corr\n",
      "ra_pmdec_corr\n",
      "ra_pmra_corr\n",
      "ra_pseudocolour_corr\n",
      "random_index\n",
      "ref_epoch\n",
      "rmag\n",
      "ruwe\n",
      "scan_direction_mean_k1\n",
      "scan_direction_mean_k2\n",
      "scan_direction_mean_k3\n",
      "scan_direction_mean_k4\n",
      "scan_direction_strength_k1\n",
      "scan_direction_strength_k2\n",
      "scan_direction_strength_k3\n",
      "scan_direction_strength_k4\n",
      "shotid\n",
      "sn\n",
      "solution_id\n",
      "source_id\n",
      "spec\n",
      "spec_error\n",
      "spec_weight\n",
      "specid_2\n",
      "stellartype\n",
      "visibility_periods_used\n",
      "ymag\n",
      "z_best\n",
      "z_galaxy\n",
      "z_qso\n",
      "z_star\n",
      "zmag\n"
     ]
    },
    {
     "name": "stderr",
     "output_type": "stream",
     "text": [
      "WARNING: UnitsWarning: ''electron'.s**-1' did not parse as fits unit: At col 0, Unit ''electron'' not supported by the FITS standard.  If this is meant to be a custom unit, define it with 'u.def_unit'. To have it recognized inside a file reader or other code, enable it with 'u.add_enabled_units'. For details, see https://docs.astropy.org/en/latest/units/combining_and_defining.html [astropy.units.core]\n",
      "WARNING: UnitsWarning: 'log(cm.s**-2)' did not parse as fits unit: 'log' is not a recognized function If this is meant to be a custom unit, define it with 'u.def_unit'. To have it recognized inside a file reader or other code, enable it with 'u.add_enabled_units'. For details, see https://docs.astropy.org/en/latest/units/combining_and_defining.html [astropy.units.core]\n",
      "WARNING: UnitsWarning: ''dex'' did not parse as fits unit: At col 0, Unit ''dex'' not supported by the FITS standard.  If this is meant to be a custom unit, define it with 'u.def_unit'. To have it recognized inside a file reader or other code, enable it with 'u.add_enabled_units'. For details, see https://docs.astropy.org/en/latest/units/combining_and_defining.html [astropy.units.core]\n"
     ]
    }
   ],
   "source": [
    "dataset_dir = \"C:\\\\Users\\\\nachi\\\\OneDrive\\\\Desktop\\\\Hawkins Lab\\\\datasets\"\n",
    "spec_data_path = os.path.join(dataset_dir,\"hetvips_lamost_retry\")\n",
    "spec_data = Table.read(spec_data_path)\n",
    "for name in sorted(spec_data.colnames):\n",
    "    print(name)"
   ]
  },
  {
   "cell_type": "code",
   "execution_count": 3,
   "metadata": {},
   "outputs": [
    {
     "data": {
      "text/plain": [
       "1391"
      ]
     },
     "execution_count": 3,
     "metadata": {},
     "output_type": "execute_result"
    }
   ],
   "source": [
    "spec_quality_mask = np.where((spec_data[\"FEH_ERR\"] < 0.2) & (spec_data[\"classification\"] == \"STAR\") & (spec_data[\"TEFF\"] > 0) & ( 1 <= spec_data[\"LOGG\"] ) & (spec_data[\"LOGG\"] <= 5) & (spec_data[\"TEFF\"] <= 25000) & (spec_data[\"SNR_G\"] > 5) & (abs(spec_data[\"RV_2\"]) < 600) & (spec_data[\"RV_ERR\"] < 10)  )\n",
    "quality_spec = spec_data[spec_quality_mask]\n",
    "len(quality_spec)"
   ]
  },
  {
   "cell_type": "code",
   "execution_count": 4,
   "metadata": {},
   "outputs": [],
   "source": [
    "cut_data = []\n",
    "cut_var = []\n",
    "for i in range(len(quality_spec[\"spec\"])):\n",
    "    cut_data.append(quality_spec[\"spec\"][i][50:-50])\n",
    "    cut_var.append(quality_spec[\"spec_error\"][i][50:-50])\n",
    "\n",
    "cut_data = np.array(cut_data)\n",
    "\n",
    "cut_var = np.array(cut_var)"
   ]
  },
  {
   "cell_type": "code",
   "execution_count": 5,
   "metadata": {},
   "outputs": [
    {
     "data": {
      "text/plain": [
       "560"
      ]
     },
     "execution_count": 5,
     "metadata": {},
     "output_type": "execute_result"
    }
   ],
   "source": [
    "counter = 0\n",
    "nan_flag = []\n",
    "for obj in cut_var:\n",
    "    if True in np.isnan(obj):\n",
    "        counter += 1\n",
    "        nan_flag.append(True)\n",
    "    else:\n",
    "        nan_flag.append(False)\n",
    "counter"
   ]
  },
  {
   "cell_type": "code",
   "execution_count": 6,
   "metadata": {},
   "outputs": [
    {
     "data": {
      "text/plain": [
       "271"
      ]
     },
     "execution_count": 6,
     "metadata": {},
     "output_type": "execute_result"
    }
   ],
   "source": [
    "new_nan_flag = []\n",
    "counter = 0 \n",
    "for obj in cut_data:\n",
    "    if True in np.isnan(obj[:50]):\n",
    "        counter += 1\n",
    "        new_nan_flag.append(True)\n",
    "    else:\n",
    "        new_nan_flag.append(False)\n",
    "counter"
   ]
  },
  {
   "cell_type": "code",
   "execution_count": 7,
   "metadata": {},
   "outputs": [
    {
     "data": {
      "text/plain": [
       "0.6008858333304935"
      ]
     },
     "execution_count": 7,
     "metadata": {},
     "output_type": "execute_result"
    }
   ],
   "source": [
    "np.nanmedian(cut_var.flatten())"
   ]
  },
  {
   "cell_type": "code",
   "execution_count": 8,
   "metadata": {},
   "outputs": [],
   "source": [
    "#Sampling the spectra\n",
    "import time\n",
    "sampling_timings = [] #Stores the time taken to perform each BMC operation (just to check effeciency for fun)\n",
    "sampled_spectras = [] #Stores the up, down or evenly sampled spectra\n",
    "new_var = []\n",
    "corrected = []\n",
    "\n",
    "def sample_data(current_spectra_flux, var, sampling_timings=[], sampled_spectras=[]): #new_sample_size is the size you set to up, down or evenly sample\n",
    "\n",
    "    start = time.perf_counter()\n",
    "\n",
    "    with warnings.catch_warnings():\n",
    "        warnings.filterwarnings(\"error\")\n",
    "        try:\n",
    "            median_var = np.nanmedian(var)\n",
    "        except:\n",
    "            median_var = 0.6\n",
    "\n",
    "\n",
    "    current_spectra_flux = np.array(current_spectra_flux)\n",
    "    nan_mask = np.isnan(current_spectra_flux) #array of True False values of where the nan values are True \n",
    "    nan_indices = np.flatnonzero(nan_mask) #gets indecies of all non zero elements (here all True elements in the mask) i.e all data that is nan\n",
    "    non_nan_indices = np.flatnonzero(~nan_mask) #the ~ reverses the True False values. We now have indecies of all the data that is not nan\n",
    "    current_spectra_flux[nan_indices] = np.interp(nan_indices,non_nan_indices,current_spectra_flux[non_nan_indices]) # NaN values removed\n",
    "\n",
    "    var[nan_indices] = median_var * 3\n",
    "\n",
    "    var_nan_mask = np.isnan(var)\n",
    "    var_nan_indices = np.flatnonzero(var_nan_mask)\n",
    "    var[var_nan_indices] = median_var * 3\n",
    "    \n",
    "    finish = time.perf_counter()\n",
    "    \n",
    "    new_var.append(var)\n",
    "    sampling_timings.append(finish-start)\n",
    "    sampled_spectras.append(current_spectra_flux)\n",
    "\n",
    "for i,spec in enumerate(cut_data):\n",
    "    sample_data(spec,cut_var[i],sampling_timings,sampled_spectras)"
   ]
  },
  {
   "cell_type": "code",
   "execution_count": 9,
   "metadata": {},
   "outputs": [
    {
     "data": {
      "text/plain": [
       "0"
      ]
     },
     "execution_count": 9,
     "metadata": {},
     "output_type": "execute_result"
    }
   ],
   "source": [
    "counter = 0\n",
    "for obj in cut_var:\n",
    "    if True in np.isnan(obj):\n",
    "        counter += 1\n",
    "counter"
   ]
  },
  {
   "cell_type": "code",
   "execution_count": 10,
   "metadata": {},
   "outputs": [
    {
     "name": "stderr",
     "output_type": "stream",
     "text": [
      "100%|██████████| 1391/1391 [02:18<00:00, 10.04it/s]\n"
     ]
    }
   ],
   "source": [
    "#New BMC\n",
    "normalized_spectra = [] #Stores the normalized spectra\n",
    "continuums = [] #Stores the continuums of the spectra\n",
    "\n",
    "def BMC(resampled_flux,window_size=50,percentile=98,normalized_spectra=[],continuums=[]):\n",
    "\n",
    "    spec_len = len(resampled_flux) \n",
    "    half_window_size = window_size//2 #We do this because the window is centered around the current value being determined. i.e index 100 will consider indecies 51-150 as part of the window\n",
    "    \n",
    "    continuum = []\n",
    "    \n",
    "    for i in range(half_window_size, spec_len-half_window_size):\n",
    "        continuum_val = np.percentile(resampled_flux[i-half_window_size:i+half_window_size+1],percentile)\n",
    "        continuum.append(continuum_val)\n",
    "\n",
    "    continuum = ([continuum[0]] * half_window_size) + continuum\n",
    "    continuum += [continuum[-1]] * half_window_size  #Window remains stationary for the last half_window_size values so we append the same value\n",
    "    \n",
    "    continuum = np.array(continuum)\n",
    "    normalized = resampled_flux/continuum\n",
    "\n",
    "    normalized_spectra.append(normalized)\n",
    "    continuums.append(continuum)\n",
    "\n",
    "for resampled_flux in tqdm(sampled_spectras):\n",
    "    BMC(resampled_flux,50,97,normalized_spectra,continuums)"
   ]
  },
  {
   "cell_type": "code",
   "execution_count": 10,
   "metadata": {},
   "outputs": [
    {
     "name": "stderr",
     "output_type": "stream",
     "text": [
      "100%|██████████| 1391/1391 [00:17<00:00, 81.30it/s]\n"
     ]
    }
   ],
   "source": [
    "lambs = np.linspace(3570,5440,936)\n",
    "from scipy import stats\n",
    "\n",
    "normalized_spectra = [] #Stores the normalized spectra\n",
    "\n",
    "def BMCcntflux(lams, fluxes,width = 100,ptile=98):\n",
    "\tcontinuumflux = []\n",
    "\tlampts = []\n",
    "\tfor i in np.arange(len(fluxes)):\n",
    "\t\ttestind = np.where((lams >= lams[i]-(width/2.0)) & (lams <= lams[i]+(width/2.0)))[0]\n",
    "\t\tlampts.append( (lams[i]-(width/2.0) +lams[i]+(width/2.0) )/2.0 )\n",
    "\t\tcontinuumflux.append(stats.scoreatpercentile(fluxes[testind],ptile))\n",
    "\tnorm_spec = fluxes/continuumflux\n",
    "\treturn norm_spec\n",
    "\n",
    "for resampled_flux in tqdm(sampled_spectras):\n",
    "    normalized_spectra.append(BMCcntflux(lambs,resampled_flux,50,98))"
   ]
  },
  {
   "cell_type": "code",
   "execution_count": 12,
   "metadata": {},
   "outputs": [
    {
     "name": "stderr",
     "output_type": "stream",
     "text": [
      "100%|██████████| 1391/1391 [00:18<00:00, 75.75it/s]\n"
     ]
    }
   ],
   "source": [
    "lambs = np.linspace(3570,5440,936)\n",
    "from scipy import stats\n",
    "\n",
    "normalized_spectra = [] #Stores the normalized spectra\n",
    "\n",
    "def BMCcntflux(lams, fluxes,width = 100,ptile=98):\n",
    "\tcontinuumflux = []\n",
    "\tlampts = []\n",
    "\tfor i in np.arange(len(fluxes)):\n",
    "\t\ttestind = np.where((lams >= lams[i]-(width/2.0)) & (lams <= lams[i]+(width/2.0)))[0]\n",
    "\t\tlampts.append( (lams[i]-(width/2.0) +lams[i]+(width/2.0) )/2.0 )\n",
    "\t\tcontinuumflux.append(stats.scoreatpercentile(fluxes[testind],ptile))\n",
    "\tnorm_spec = fluxes/continuumflux\n",
    "\n",
    "\ttry:\n",
    "\t\t\tZ  = np.polyfit(lampts, continuumflux,deg=3)\n",
    "\texcept TypeError:\n",
    "\t\tprint ('WARNING couldnt fit conitnuum returning nans')\n",
    "\t\treturn np.array([np.nan]*len(lams))\n",
    "\tfunc = np.poly1d(Z)\n",
    "\tcontinuumflux = func(lams)\n",
    "\tfluxes /= continuumflux\n",
    "\treturn fluxes\n",
    "\n",
    "for resampled_flux in tqdm(sampled_spectras):\n",
    "    normalized_spectra.append(BMCcntflux(lambs,resampled_flux,100,98))"
   ]
  },
  {
   "cell_type": "code",
   "execution_count": null,
   "metadata": {},
   "outputs": [],
   "source": [
    "\"\"\"\"\"\"\n",
    "#Plotting graphs\n",
    "idx = 1000 #change this to the idx of the spectra you want to see\n",
    "continuum = continuums[idx]\n",
    "normalized = normalized_spectra[idx]\n",
    "resampled_flux = sampled_spectras[idx]\n",
    "\n",
    "fig, ((ax1,ax2),(ax3,ax4)) = plt.subplots(2, 2, figsize=(16, 10),sharex=True)\n",
    "\n",
    "ax1.plot(np.linspace(3470,5540,1036),quality_spec[\"spec\"][idx])\n",
    "ax1.set_ylim(top=max(resampled_flux)+5)\n",
    "ax1.set_title(\"raw spectra\")\n",
    "\n",
    "ax2.plot(np.linspace(3570,5440,len(resampled_flux)),resampled_flux)\n",
    "ax2.set_ylim(top=max(resampled_flux)+5)\n",
    "ax2.set_title(\"Interpolated (No NaN Values)\")\n",
    "\n",
    "ax3.plot(np.linspace(3570,5440,len(resampled_flux)),resampled_flux)\n",
    "ax3.plot(np.linspace(3570,5440,len(continuum)),continuum)\n",
    "ax3.set_ylim(top=max(resampled_flux)+5)\n",
    "ax3.set_title(\"spectra with continuum\")\n",
    "\n",
    "ax4.plot(np.linspace(3570,5440,len(normalized)),normalized)\n",
    "ax4.set_ylim(top=max(normalized)+0.1)\n",
    "ax4.set_title(\"normalized spectra\")\n",
    "fig.text(0.5, 0.04, 'Wavelengths', ha='center',size=15)\n",
    "fig.text(0.09, 0.5, 'Flux', va='center', rotation='vertical',size=15)\n",
    "plt.show()\n"
   ]
  },
  {
   "cell_type": "code",
   "execution_count": 11,
   "metadata": {},
   "outputs": [],
   "source": [
    "#Appending the new data to the old fits file data\n",
    "quality_spec.add_column(normalized_spectra,name=\"spec_norm\")\n",
    "#quality_spec.add_column(continuums,name=\"spec_continuums\")\n",
    "quality_spec.add_column(sampled_spectras,name=\"spec_sampled\")\n",
    "quality_spec.add_column(new_var,name=\"updated_var\")\n",
    "quality_spec.add_column(nan_flag,name=\"nan_flag\")\n",
    "quality_spec.add_column(new_nan_flag,name=\"new_nan_flag\")"
   ]
  },
  {
   "cell_type": "code",
   "execution_count": 12,
   "metadata": {},
   "outputs": [
    {
     "name": "stderr",
     "output_type": "stream",
     "text": [
      "WARNING: UnitsWarning: ''electron'.s**-1' did not parse as fits unit: At col 0, Unit ''electron'' not supported by the FITS standard.  If this is meant to be a custom unit, define it with 'u.def_unit'. To have it recognized inside a file reader or other code, enable it with 'u.add_enabled_units'. For details, see https://docs.astropy.org/en/latest/units/combining_and_defining.html [astropy.units.core]\n",
      "WARNING: UnitsWarning: 'log(cm.s**-2)' did not parse as fits unit: 'log' is not a recognized function If this is meant to be a custom unit, define it with 'u.def_unit'. To have it recognized inside a file reader or other code, enable it with 'u.add_enabled_units'. For details, see https://docs.astropy.org/en/latest/units/combining_and_defining.html [astropy.units.core]\n",
      "WARNING: UnitsWarning: ''dex'' did not parse as fits unit: At col 0, Unit ''dex'' not supported by the FITS standard.  If this is meant to be a custom unit, define it with 'u.def_unit'. To have it recognized inside a file reader or other code, enable it with 'u.add_enabled_units'. For details, see https://docs.astropy.org/en/latest/units/combining_and_defining.html [astropy.units.core]\n"
     ]
    }
   ],
   "source": [
    "#Saving the modified file\n",
    "from astropy.io import fits\n",
    "modified_data_path = os.path.join(dataset_dir,\"retry_updated.fits\")\n",
    "hdu = fits.BinTableHDU(quality_spec)\n",
    "hdu.writeto(modified_data_path,overwrite=True)"
   ]
  },
  {
   "cell_type": "code",
   "execution_count": null,
   "metadata": {},
   "outputs": [],
   "source": [
    "dataset_dir = \"C:\\\\Users\\\\nachi\\\\OneDrive\\\\Desktop\\\\Hawkins Lab\\\\datasets\"\n",
    "spec_data_path = os.path.join(dataset_dir,\"retry_updated.fits\")\n",
    "spec_data = Table.read(spec_data_path)\n",
    "for name in sorted(spec_data.colnames):\n",
    "    print(name)"
   ]
  },
  {
   "cell_type": "code",
   "execution_count": null,
   "metadata": {},
   "outputs": [],
   "source": []
  }
 ],
 "metadata": {
  "kernelspec": {
   "display_name": "base",
   "language": "python",
   "name": "python3"
  },
  "language_info": {
   "codemirror_mode": {
    "name": "ipython",
    "version": 3
   },
   "file_extension": ".py",
   "mimetype": "text/x-python",
   "name": "python",
   "nbconvert_exporter": "python",
   "pygments_lexer": "ipython3",
   "version": "3.11.5"
  }
 },
 "nbformat": 4,
 "nbformat_minor": 2
}

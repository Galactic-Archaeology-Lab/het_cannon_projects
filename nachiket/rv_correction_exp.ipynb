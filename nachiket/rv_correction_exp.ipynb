{
 "cells": [
  {
   "cell_type": "code",
   "execution_count": 1,
   "metadata": {},
   "outputs": [],
   "source": [
    "#Imports\n",
    "import numpy as np\n",
    "from astropy.table import Table\n",
    "from astropy import constants as const\n",
    "import matplotlib.pyplot as plt\n",
    "import matplotlib\n",
    "from scipy.interpolate import interp1d\n",
    "import os\n",
    "import time\n",
    "from mpl_toolkits.mplot3d import Axes3D\n",
    "\n",
    "%matplotlib inline"
   ]
  },
  {
   "cell_type": "code",
   "execution_count": 2,
   "metadata": {},
   "outputs": [
    {
     "name": "stderr",
     "output_type": "stream",
     "text": [
      "WARNING: UnitsWarning: ''electron'.s**-1' did not parse as fits unit: At col 0, Unit ''electron'' not supported by the FITS standard.  If this is meant to be a custom unit, define it with 'u.def_unit'. To have it recognized inside a file reader or other code, enable it with 'u.add_enabled_units'. For details, see https://docs.astropy.org/en/latest/units/combining_and_defining.html [astropy.units.core]\n",
      "WARNING: UnitsWarning: 'log(cm.s**-2)' did not parse as fits unit: 'log' is not a recognized function If this is meant to be a custom unit, define it with 'u.def_unit'. To have it recognized inside a file reader or other code, enable it with 'u.add_enabled_units'. For details, see https://docs.astropy.org/en/latest/units/combining_and_defining.html [astropy.units.core]\n",
      "WARNING: UnitsWarning: ''dex'' did not parse as fits unit: At col 0, Unit ''dex'' not supported by the FITS standard.  If this is meant to be a custom unit, define it with 'u.def_unit'. To have it recognized inside a file reader or other code, enable it with 'u.add_enabled_units'. For details, see https://docs.astropy.org/en/latest/units/combining_and_defining.html [astropy.units.core]\n"
     ]
    }
   ],
   "source": [
    "dataset_dir = \"C:\\\\Users\\\\nachi\\\\OneDrive\\\\Desktop\\\\Hawkins Lab\\\\datasets\"\n",
    "spec_data_path = os.path.join(dataset_dir,\"HETVIPS_LAMOST_SPEC_UPDATED.fits\")\n",
    "spec_data = Table.read(spec_data_path)\n",
    "#for name in sorted(spec_data.colnames):\n",
    "#    print(name)"
   ]
  },
  {
   "cell_type": "markdown",
   "metadata": {},
   "source": [
    "The formula for RV is:\n",
    "\n",
    "$$\n",
    "v = c * \\frac{  {\\lambda_s} - {\\lambda_o}   } {\\lambda_o}\\\n",
    "$$\n",
    "\n",
    "Where\\\n",
    "$v$ - radial velocity\\\n",
    "$c$ - speed of light\\\n",
    "${\\lambda_s}$ - the observed wavelength\\\n",
    "${\\lambda_o}$ - rest wavelength\n",
    "\n",
    "Since the tempelates are currently unavailable I will shift the spectrum by some RV v and pretend that it is the rest spectrum. To change the values of the wavelengths to the rest wavelengths we must apply:\n",
    "\n",
    "$$\n",
    "{\\lambda_o} = \\frac{c}{v+c} * {\\lambda_s} ----- (1)\n",
    "$$\n",
    "\n",
    "\n",
    "Then for the CCF we must pretend we do not know the value of the RV. We will shift the rest spectrum according to the RV we will be testing with. To perform this shift we use:\n",
    "\n",
    "$$\n",
    "{\\lambda_s} = \\frac{v+c}{c} * {\\lambda_o} ----- (2)\n",
    "$$\n",
    "\n"
   ]
  },
  {
   "cell_type": "code",
   "execution_count": 34,
   "metadata": {},
   "outputs": [],
   "source": [
    "#shifting specturm and pretending it is the rest spectrum\n",
    "spec_access_idx = 75\n",
    "spec = spec_data[\"spec_norm\"][spec_access_idx]\n",
    "observed_wavelengths = np.linspace(3500,5500,len(spec))\n",
    "observed_spec = np.array(spec)\n",
    "\n",
    "c = 299792.46\n",
    "v = -9 #rv in  km/s\n",
    "shift_const = c / (v+c) #formula (1)\n",
    "rest_wavelengths = observed_wavelengths * shift_const\n",
    "tmplt_spec = observed_spec #just a placehold"
   ]
  },
  {
   "cell_type": "code",
   "execution_count": 39,
   "metadata": {},
   "outputs": [
    {
     "name": "stdout",
     "output_type": "stream",
     "text": [
      "0.005263600000034785\n"
     ]
    },
    {
     "data": {
      "text/plain": [
       "-9.0"
      ]
     },
     "execution_count": 39,
     "metadata": {},
     "output_type": "execute_result"
    }
   ],
   "source": [
    "#CCF\n",
    "\n",
    "def get_score(v,observed_spec,observed_wavelengths,tmplt_spec):\n",
    "    f = interp1d(observed_wavelengths,observed_spec,fill_value=\"extrapolate\",kind=\"linear\",bounds_error=False)\n",
    "    tmplt_shift_const = (v+c)/c #formula (2)\n",
    "    new_wavelengths = rest_wavelengths * tmplt_shift_const\n",
    "    interpolated_observed_spec = np.array(f(new_wavelengths))\n",
    "    return np.dot(interpolated_observed_spec,tmplt_spec)\n",
    "\n",
    "def ccf(observed_spec,observed_wavelengths,tmplt_spec):\n",
    "    start = time.perf_counter()\n",
    "    negative_rv_score = get_score(-2,observed_spec,observed_wavelengths,tmplt_spec)\n",
    "    positive_rv_score = get_score(2,observed_spec,observed_wavelengths,tmplt_spec)\n",
    "\n",
    "    if negative_rv_score > positive_rv_score:\n",
    "        value_range = np.arange(-5,-11,-0.5)\n",
    "\n",
    "    elif positive_rv_score > negative_rv_score:\n",
    "        value_range = np.arange(0,600,0.5)\n",
    "\n",
    "    \n",
    "    current_max = 0\n",
    "    predicted_rv = 0\n",
    "    scores = []\n",
    "    for rv in value_range:\n",
    "        current_score = get_score(rv,observed_spec,observed_wavelengths,tmplt_spec)\n",
    "        if  current_score > current_max:\n",
    "            predicted_rv = rv\n",
    "            current_max = current_score\n",
    "        scores.append(current_score)\n",
    "        \n",
    "    finish = time.perf_counter()\n",
    "    print(finish-start)\n",
    "    return predicted_rv,value_range,scores\n",
    "\n",
    "\n",
    "predicted_rv,value_range,scores = ccf(observed_spec,observed_wavelengths,tmplt_spec)\n",
    "predicted_rv"
   ]
  },
  {
   "cell_type": "code",
   "execution_count": 79,
   "metadata": {},
   "outputs": [],
   "source": [
    "#shifting specturm and pretending it is the rest spectrum\n",
    "spec_access_idx = 75\n",
    "spec = spec_data[\"spec_norm\"][spec_access_idx]\n",
    "observed_wavelengths = np.linspace(3500,5500,len(spec))\n",
    "observed_spec = np.array(spec)\n",
    "\n",
    "c = 299792.46 #c in km/s\n",
    "v = 245 #rv in  km/s\n",
    "shift_const = c / (v+c) #formula (2)\n",
    "rest_wavelengths = observed_wavelengths * shift_const\n",
    "tmplt_spec = observed_spec #just a placeholder for now"
   ]
  },
  {
   "cell_type": "code",
   "execution_count": 80,
   "metadata": {},
   "outputs": [
    {
     "name": "stdout",
     "output_type": "stream",
     "text": [
      "0.003066499999476946\n",
      "8\n"
     ]
    },
    {
     "data": {
      "text/plain": [
       "245.1259765625"
      ]
     },
     "execution_count": 80,
     "metadata": {},
     "output_type": "execute_result"
    }
   ],
   "source": [
    "#CCF Improved\n",
    "iters = 7\n",
    "def get_score(v,f,tmplt_spec):\n",
    "    \n",
    "    tmplt_shift_const = (v+c)/c #formula (2)\n",
    "    new_wavelengths = rest_wavelengths * tmplt_shift_const\n",
    "    interpolated_observed_spec = np.array(f(new_wavelengths))\n",
    "    return np.dot(interpolated_observed_spec,tmplt_spec)\n",
    "\n",
    "def ccf(observed_spec,observed_wavelengths,tmplt_spec,high_range):\n",
    "    start = time.perf_counter()\n",
    "    negative = False\n",
    "    f = interp1d(observed_wavelengths,observed_spec,fill_value=\"extrapolate\",kind=\"linear\",bounds_error=False)\n",
    "    negative_rv_score = get_score(-2,f,tmplt_spec)\n",
    "    positive_rv_score = get_score(2,f,tmplt_spec)\n",
    "\n",
    "    if negative_rv_score > positive_rv_score:\n",
    "        high = -high_range\n",
    "        negative = True\n",
    "\n",
    "    elif positive_rv_score > negative_rv_score:\n",
    "        high = high_range\n",
    "\n",
    "    low = 0\n",
    "    mid = (low + high)/2\n",
    "\n",
    "    counter = 0\n",
    "    predicted_rv = None\n",
    "\n",
    "    while counter <= iters:\n",
    "\n",
    "        if not negative:\n",
    "            mid_plus_score = get_score(mid+1,f,tmplt_spec)\n",
    "            mid_minus_score = get_score(mid-1,f,tmplt_spec)\n",
    "        else:\n",
    "            mid_plus_score = get_score(mid-1,f,tmplt_spec)\n",
    "            mid_minus_score = get_score(mid+1,f,tmplt_spec)\n",
    "\n",
    "        score_delta = mid_plus_score - mid_minus_score\n",
    "\n",
    "        if score_delta < 0:\n",
    "            high = mid\n",
    "            mid = (low + high)/2\n",
    "\n",
    "        elif score_delta > 0:\n",
    "            low = mid\n",
    "            mid = (low + high)/2\n",
    "        \n",
    "        predicted_rv = mid\n",
    "        counter += 1\n",
    "        \n",
    "    finish = time.perf_counter()\n",
    "    print(finish-start)\n",
    "    print(counter)\n",
    "    return predicted_rv\n",
    "\n",
    "predicted_rv = ccf(observed_spec,observed_wavelengths,tmplt_spec,600.5)\n",
    "predicted_rv\n"
   ]
  },
  {
   "cell_type": "code",
   "execution_count": 81,
   "metadata": {},
   "outputs": [],
   "source": [
    "#shifting specturm and pretending it is the rest spectrum\n",
    "spec_access_idx = 75\n",
    "spec = spec_data[\"spec_norm\"][spec_access_idx]\n",
    "observed_wavelengths = np.linspace(3500,5500,len(spec))\n",
    "observed_spec = np.array(spec)\n",
    "\n",
    "c = 299792.46 #c in km/s\n",
    "v = 245 #rv in  km/s\n",
    "shift_const = c / (v+c) #formula (2)\n",
    "rest_wavelengths = observed_wavelengths * shift_const\n",
    "tmplt_spec = observed_spec #just a placeholder for now"
   ]
  },
  {
   "cell_type": "code",
   "execution_count": 83,
   "metadata": {},
   "outputs": [
    {
     "name": "stdout",
     "output_type": "stream",
     "text": [
      "1\n",
      "0.0028178000011394033\n"
     ]
    },
    {
     "data": {
      "text/plain": [
       "245.0000000002613"
      ]
     },
     "execution_count": 83,
     "metadata": {},
     "output_type": "execute_result"
    }
   ],
   "source": [
    "#CCF Improved Using Gradients\n",
    "iters = 7\n",
    "def get_score(v,f,tmplt_spec):\n",
    "    \n",
    "    tmplt_shift_const = (v+c)/c #formula (2)\n",
    "    new_wavelengths = rest_wavelengths * tmplt_shift_const\n",
    "    interpolated_observed_spec = np.array(f(new_wavelengths))\n",
    "    return np.dot(interpolated_observed_spec,tmplt_spec)\n",
    "\n",
    "def ccf(observed_spec,observed_wavelengths,tmplt_spec,high_range):\n",
    "    start = time.perf_counter()\n",
    "    negative = False\n",
    "    f = interp1d(observed_wavelengths,observed_spec,fill_value=\"extrapolate\",kind=\"linear\",bounds_error=False)\n",
    "    \n",
    "    negative_rv_score = get_score(-2,f,tmplt_spec)\n",
    "    positive_rv_score = get_score(2,f,tmplt_spec)\n",
    "\n",
    "    if negative_rv_score > positive_rv_score:\n",
    "        high = -high_range\n",
    "        negative = True\n",
    "\n",
    "    elif positive_rv_score > negative_rv_score:\n",
    "        high = high_range\n",
    "\n",
    "    low = 0\n",
    "    mid = (low + high)/2\n",
    "\n",
    "    predicted_rv = None\n",
    "\n",
    "    mid_plus_score = get_score(mid+1,f,tmplt_spec)\n",
    "    mid_minus_score = get_score(mid-1,f,tmplt_spec)\n",
    "    score_delta = mid_plus_score - mid_minus_score\n",
    "\n",
    "    prev_delta = score_delta\n",
    "    prev_c = -((prev_delta/2)*(mid+1)) + (mid_plus_score)\n",
    "\n",
    "    for i in range(iters):\n",
    "\n",
    "        if not negative:\n",
    "            mid_plus_score = get_score(mid+1,f,tmplt_spec)\n",
    "            mid_minus_score = get_score(mid-1,f,tmplt_spec)\n",
    "        else:\n",
    "            mid_plus_score = get_score(mid-1,f,tmplt_spec)\n",
    "            mid_minus_score = get_score(mid+1,f,tmplt_spec)\n",
    "\n",
    "        score_delta = mid_plus_score - mid_minus_score\n",
    "\n",
    "        if (score_delta > 0 and prev_delta > 0) or (score_delta < 0 and prev_delta < 0):\n",
    "            prev_delta = score_delta\n",
    "            prev_c =  (mid_plus_score)-((score_delta/2)*(mid+1))\n",
    "\n",
    "        else:\n",
    "            c = (mid_plus_score)-((score_delta/2)*(mid+1))\n",
    "            x = (prev_c-c)/((score_delta/2)-(prev_delta/2))\n",
    "\n",
    "            finish = time.perf_counter()\n",
    "            print(i)\n",
    "            print(finish-start)\n",
    "            return x\n",
    "\n",
    "        if score_delta < 0:\n",
    "            high = mid\n",
    "            mid = (low + high)/2\n",
    "\n",
    "        elif score_delta > 0:\n",
    "            low = mid\n",
    "            mid = (low + high)/2\n",
    "\n",
    "    \n",
    "        predicted_rv = mid\n",
    "        \n",
    "        \n",
    "    finish = time.perf_counter()\n",
    "    print(finish-start)\n",
    "    return predicted_rv\n",
    "\n",
    "predicted_rv = ccf(observed_spec,observed_wavelengths,tmplt_spec,600.5)\n",
    "predicted_rv\n"
   ]
  },
  {
   "cell_type": "code",
   "execution_count": 68,
   "metadata": {},
   "outputs": [],
   "source": [
    "#Using formula (1) to bring the observed spectrum to the rest frame\n",
    "def to_rest(observed_spec,observed_wavelengths,predicted_rv):\n",
    "    shift_const = (predicted_rv+c)/c #formula (1)\n",
    "    rest_wavelengths = observed_wavelengths * shift_const\n",
    "    f = interp1d(rest_wavelengths,observed_spec,fill_value=\"extrapolate\",kind=\"linear\",bounds_error=False)\n",
    "    rest_spec = np.array(f(observed_wavelengths))\n",
    "    return rest_spec"
   ]
  }
 ],
 "metadata": {
  "kernelspec": {
   "display_name": "base",
   "language": "python",
   "name": "python3"
  },
  "language_info": {
   "codemirror_mode": {
    "name": "ipython",
    "version": 3
   },
   "file_extension": ".py",
   "mimetype": "text/x-python",
   "name": "python",
   "nbconvert_exporter": "python",
   "pygments_lexer": "ipython3",
   "version": "3.11.5"
  }
 },
 "nbformat": 4,
 "nbformat_minor": 2
}

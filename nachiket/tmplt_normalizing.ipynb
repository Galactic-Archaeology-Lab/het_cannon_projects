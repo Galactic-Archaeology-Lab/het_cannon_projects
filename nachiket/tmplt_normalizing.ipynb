{
 "cells": [
  {
   "cell_type": "code",
   "execution_count": 1,
   "metadata": {},
   "outputs": [],
   "source": [
    "#Imports\n",
    "import numpy as np\n",
    "from astropy.table import Table\n",
    "import matplotlib.pyplot as plt\n",
    "import os\n",
    "from scipy.interpolate import interp1d, CubicSpline\n",
    "from tqdm import tqdm\n",
    "import time\n",
    "from glob import glob\n",
    "\n",
    "\n",
    "%matplotlib inline"
   ]
  },
  {
   "cell_type": "code",
   "execution_count": 2,
   "metadata": {},
   "outputs": [
    {
     "data": {
      "text/plain": [
       "730"
      ]
     },
     "execution_count": 2,
     "metadata": {},
     "output_type": "execute_result"
    }
   ],
   "source": [
    "rv_tmplt_directory = \"C:\\\\Users\\\\nachi\\\\OneDrive\\\\Desktop\\\\Hawkins Lab\\\\datasets\\\\RVgrid\"\n",
    "conv_tmplt_list = glob(os.path.join(rv_tmplt_directory,\"*.conv\"))\n",
    "len(conv_tmplt_list)"
   ]
  },
  {
   "cell_type": "code",
   "execution_count": 3,
   "metadata": {},
   "outputs": [],
   "source": [
    "tmplt_specs = []\n",
    "tmplt_wavelengths = []\n",
    "tmplt_norm_og = []\n",
    "#3470,5540\n",
    "observed_wavelengths = np.linspace(3470,5540,1036)\n",
    "for i in range(len(conv_tmplt_list)):\n",
    "    current = np.loadtxt(conv_tmplt_list[i])\n",
    "    tmplt_specs.append(current[:,2])\n",
    "    tmplt_wavelengths.append(current[:,0])\n",
    "    tmplt_norm_og.append(current[:,1])\n",
    "    "
   ]
  },
  {
   "cell_type": "code",
   "execution_count": 4,
   "metadata": {},
   "outputs": [],
   "source": [
    "observed_wavelengths = np.linspace(3470,5540,1036)\n",
    "\n",
    "refit_tmplt_spec_arr = []\n",
    "\n",
    "for i in range(len(tmplt_specs)):\n",
    "    cs = CubicSpline(tmplt_wavelengths[i],tmplt_specs[i])\n",
    "    refit_tmplt_spec = np.array(cs(observed_wavelengths))\n",
    "    refit_tmplt_spec_arr.append(refit_tmplt_spec)"
   ]
  },
  {
   "cell_type": "code",
   "execution_count": 5,
   "metadata": {},
   "outputs": [],
   "source": [
    "uncut_spec = []\n",
    "for i in range(len(refit_tmplt_spec_arr)):\n",
    "    uncut_spec.append(refit_tmplt_spec_arr[i])\n",
    "    refit_tmplt_spec_arr[i] = refit_tmplt_spec_arr[i][50:-50]\n",
    "uncut_spec = np.array(uncut_spec)"
   ]
  },
  {
   "cell_type": "code",
   "execution_count": null,
   "metadata": {},
   "outputs": [],
   "source": [
    "\"\"\"\n",
    "#Implementing Boosted Median Continuum On Spectra\n",
    "BMC_timings = [] #Stores the time taken to perform each BMC operation (just to check effeciency for fun)\n",
    "normalized_spectra = [] #Stores the normalized spectra\n",
    "continuums = [] #Stores the continuums of the spectra\n",
    "\n",
    "def BMC(resampled_flux,uncut_spec_data,window_size=50,percentile=0.98,BMC_timings=[],normalized_spectra=[],continuums=[]):\n",
    "\n",
    "    start = time.perf_counter()\n",
    "\n",
    "    spec_len = len(resampled_flux) \n",
    "    half_window_size = window_size//2 #We do this because the window is centered around the current value being determined. i.e index 100 will consider indecies 51-150 as part of the window\n",
    "    percentile_idx = int(percentile * window_size) #Since the \n",
    "    first_reflection = uncut_spec_data[:half_window_size]\n",
    "    second_reflection = uncut_spec_data[-half_window_size:]\n",
    "    extended_flux = np.concatenate([first_reflection,resampled_flux,second_reflection])\n",
    "\n",
    "    running_stack = sorted(extended_flux[:window_size]) #Stars as a sorted list of the first 100 \n",
    "    continuum = [] #Because the window doesn't move until the index == half_window_size, you're still taking the nth percentile of resampled_flux[:window_size]\n",
    "\n",
    "    for i in range(half_window_size, spec_len + half_window_size):\n",
    "        #remove operation\n",
    "        removal_val = extended_flux[i-half_window_size]\n",
    "        removal_idx = np.searchsorted(running_stack,removal_val) #Binary search to remove i-half_window_size value as the window has moved forward by 1\n",
    "        del running_stack[removal_idx]\n",
    "\n",
    "        #insert operation\n",
    "        insertion_val = extended_flux[i+half_window_size]\n",
    "        insertion_idx = np.searchsorted(running_stack,insertion_val) #Binary search to insert the value into the running stack which is always sorted\n",
    "        running_stack.insert(insertion_idx,insertion_val)\n",
    "\n",
    "        continuum_val = running_stack[percentile_idx] \n",
    "        continuum.append(continuum_val) \n",
    "\n",
    "    continuum = np.array(continuum)\n",
    "    normalized = resampled_flux/continuum\n",
    "\n",
    "    finish = time.perf_counter()\n",
    "    \n",
    "    BMC_timings.append(finish-start)\n",
    "    normalized_spectra.append(normalized)\n",
    "    continuums.append(continuum)\n",
    "\n",
    "counter = 0\n",
    "for resampled_flux in tqdm(refit_tmplt_spec_arr):\n",
    "    uncut_spec_data = uncut_spec[counter]\n",
    "    BMC(resampled_flux,uncut_spec_data,100,0.98,BMC_timings,normalized_spectra,continuums)\n",
    "    counter += 1\n",
    "\"\"\""
   ]
  },
  {
   "cell_type": "code",
   "execution_count": null,
   "metadata": {},
   "outputs": [],
   "source": [
    "\"\"\"\n",
    "#Implementing Boosted Median Continuum On Spectra\n",
    "BMC_timings = [] #Stores the time taken to perform each BMC operation (just to check effeciency for fun)\n",
    "normalized_spectra = [] #Stores the normalized spectra\n",
    "continuums = [] #Stores the continuums of the spectra\n",
    "\n",
    "def BMC(resampled_flux,window_size=50,percentile=0.98,BMC_timings=[],normalized_spectra=[],continuums=[]):\n",
    "\n",
    "    start = time.perf_counter()\n",
    "\n",
    "    spec_len = len(resampled_flux) \n",
    "    half_window_size = window_size//2 #We do this because the window is centered around the current value being determined. i.e index 100 will consider indecies 51-150 as part of the window\n",
    "    running_stack = sorted(resampled_flux[:window_size]) #Stars as a sorted list of the first 100 \n",
    "    percentile_idx = int(percentile * window_size) #Since the \n",
    "    continuum = [running_stack[percentile_idx]] * half_window_size #Because the window doesn't move until the index == half_window_size, you're still taking the nth percentile of resampled_flux[:window_size]\n",
    "\n",
    "    for i in range(half_window_size, spec_len-half_window_size):\n",
    "\n",
    "        #remove operation\n",
    "        removal_val = resampled_flux[i-half_window_size]\n",
    "        removal_idx = np.searchsorted(running_stack,removal_val) #Binary search to remove i-half_window_size value as the window has moved forward by 1\n",
    "        del running_stack[removal_idx]\n",
    "\n",
    "        #insert operation\n",
    "        insertion_val = resampled_flux[i+half_window_size]\n",
    "        insertion_idx = np.searchsorted(running_stack,insertion_val) #Binary search to insert the value into the running stack which is always sorted\n",
    "        running_stack.insert(insertion_idx,insertion_val)\n",
    "\n",
    "        continuum_val = running_stack[percentile_idx] \n",
    "        continuum.append(continuum_val) \n",
    "\n",
    "    continuum += [continuum[-1]] * 50  #Window remains stationary for the last half_window_size values so we append the same value\n",
    "    continuum = np.array(continuum)\n",
    "    normalized = resampled_flux/continuum\n",
    "\n",
    "    finish = time.perf_counter()\n",
    "    \n",
    "    BMC_timings.append(finish-start)\n",
    "    normalized_spectra.append(normalized)\n",
    "    continuums.append(continuum)\n",
    "\n",
    "for resampled_flux in tqdm(refit_tmplt_spec_arr):\n",
    "    BMC(resampled_flux,100,0.98,BMC_timings,normalized_spectra,continuums)\n",
    "\"\"\""
   ]
  },
  {
   "cell_type": "code",
   "execution_count": 6,
   "metadata": {},
   "outputs": [
    {
     "name": "stderr",
     "output_type": "stream",
     "text": [
      "100%|██████████| 730/730 [02:24<00:00,  5.04it/s]\n"
     ]
    }
   ],
   "source": [
    "\n",
    "#New BMC\n",
    "normalized_spectra = [] #Stores the normalized spectra\n",
    "continuums = [] #Stores the continuums of the spectra\n",
    "\n",
    "def BMC(resampled_flux,window_size=50,percentile=98,normalized_spectra=[],continuums=[]):\n",
    "\n",
    "    spec_len = len(resampled_flux) \n",
    "    half_window_size = window_size//2 #We do this because the window is centered around the current value being determined. i.e index 100 will consider indecies 51-150 as part of the window\n",
    "    \n",
    "    continuum = []\n",
    "    \n",
    "    for i in range(half_window_size, spec_len-half_window_size):\n",
    "        continuum_val = np.percentile(resampled_flux[i-half_window_size:i+half_window_size+1],percentile)\n",
    "        continuum.append(continuum_val)\n",
    "\n",
    "    continuum = ([continuum[0]] * half_window_size) + continuum\n",
    "    continuum += [continuum[-1]] * half_window_size  #Window remains stationary for the last half_window_size values so we append the same value\n",
    "    \n",
    "    continuum = np.array(continuum)\n",
    "    normalized = resampled_flux/continuum\n",
    "\n",
    "    normalized_spectra.append(normalized)\n",
    "    continuums.append(continuum)\n",
    "\n",
    "for resampled_flux in tqdm(refit_tmplt_spec_arr):\n",
    "    BMC(resampled_flux,50,97,normalized_spectra,continuums)"
   ]
  },
  {
   "cell_type": "code",
   "execution_count": 8,
   "metadata": {},
   "outputs": [
    {
     "name": "stderr",
     "output_type": "stream",
     "text": [
      "100%|██████████| 730/730 [00:07<00:00, 94.51it/s]\n"
     ]
    }
   ],
   "source": [
    "\n",
    "lambs = np.linspace(3570,5440,936)\n",
    "from scipy import stats\n",
    "\n",
    "normalized_spectra = [] #Stores the normalized spectra\n",
    "cntm_spectra = []\n",
    "\n",
    "def BMCcntflux(lams, fluxes,width = 100,ptile=98):\n",
    "\tcontinuumflux = []\n",
    "\n",
    "\tfor i in np.arange(len(fluxes)):\n",
    "\t\ttestind = np.where((lams >= lams[i]-(width/2.0)) & (lams <= lams[i]+(width/2.0)))[0]\n",
    "\t\tcontinuumflux.append(stats.scoreatpercentile(fluxes[testind],ptile))\n",
    "\tnorm_spec = fluxes/continuumflux\n",
    "\treturn norm_spec,continuumflux\n",
    "\n",
    "for resampled_flux in tqdm(refit_tmplt_spec_arr):\n",
    "\tnormalized_values, cntm_values = (BMCcntflux(lambs,resampled_flux,50,98))\n",
    "\tnormalized_spectra.append(normalized_values)\n",
    "\tcntm_spectra.append(cntm_values)\n"
   ]
  },
  {
   "cell_type": "code",
   "execution_count": 6,
   "metadata": {},
   "outputs": [
    {
     "name": "stderr",
     "output_type": "stream",
     "text": [
      "100%|██████████| 730/730 [00:09<00:00, 75.23it/s]\n"
     ]
    }
   ],
   "source": [
    "lambs = np.linspace(3570,5440,936)\n",
    "from scipy import stats\n",
    "\n",
    "normalized_spectra = [] #Stores the normalized spectra\n",
    "\n",
    "def BMCcntflux(lams, fluxes,width = 100,ptile=98):\n",
    "\tcontinuumflux = []\n",
    "\tlampts = []\n",
    "\tfor i in np.arange(len(fluxes)):\n",
    "\t\ttestind = np.where((lams >= lams[i]-(width/2.0)) & (lams <= lams[i]+(width/2.0)))[0]\n",
    "\t\tlampts.append( (lams[i]-(width/2.0) +lams[i]+(width/2.0) )/2.0 )\n",
    "\t\tcontinuumflux.append(stats.scoreatpercentile(fluxes[testind],ptile))\n",
    "\tnorm_spec = fluxes/continuumflux\n",
    "\n",
    "\ttry:\n",
    "\t\t\tZ  = np.polyfit(lampts, continuumflux,deg=3)\n",
    "\texcept TypeError:\n",
    "\t\tprint ('WARNING couldnt fit conitnuum returning nans')\n",
    "\t\treturn np.array([np.nan]*len(lams))\n",
    "\tfunc = np.poly1d(Z)\n",
    "\tcontinuumflux = func(lams)\n",
    "\tfluxes /= continuumflux\n",
    "\treturn fluxes\n",
    "\n",
    "for resampled_flux in tqdm(refit_tmplt_spec_arr):\n",
    "    normalized_spectra.append(BMCcntflux(lambs,resampled_flux,100,98))"
   ]
  },
  {
   "cell_type": "code",
   "execution_count": null,
   "metadata": {},
   "outputs": [],
   "source": [
    "\"\"\"\n",
    "normalized_spectra = [] #Stores the normalized spectra\n",
    "continuums = [] #Stores the continuums of the spectra\n",
    "\n",
    "def BMC(resampled_flux,window_size=50,percentile=0.98,normalized_spectra=[],continuums=[]):\n",
    "\n",
    "\n",
    "    spec_len = len(resampled_flux) \n",
    "    continuum = []\n",
    "    start_idx = 0\n",
    "    while start_idx < spec_len:\n",
    "        new_stack = resampled_flux[start_idx:start_idx+window_size]\n",
    "        continuum += [sorted(new_stack)[int(percentile*len(new_stack))]] * window_size\n",
    "        start_idx += window_size\n",
    "\n",
    "    continuum = np.array(continuum[:spec_len])\n",
    "    normalized = resampled_flux/continuum\n",
    "    \n",
    "    normalized_spectra.append(normalized)\n",
    "    continuums.append(continuum)\n",
    "\n",
    "\n",
    "counter = 0\n",
    "for resampled_flux in tqdm(refit_tmplt_spec_arr):\n",
    "    BMC(resampled_flux,100,0.98,normalized_spectra,continuums)\n",
    "    counter += 1\n",
    "\"\"\""
   ]
  },
  {
   "cell_type": "code",
   "execution_count": null,
   "metadata": {},
   "outputs": [],
   "source": [
    "#Plotting graphs\n",
    "idx = 700 #change this to the idx of the spectra you want to see\n",
    "continuum = continuums[idx]\n",
    "normalized = normalized_spectra[idx]\n",
    "resampled_flux = refit_tmplt_spec_arr[idx]\n",
    "\n",
    "observed_wavelengths = np.linspace(3470,5540,1036)\n",
    "\n",
    "fig, ((ax1,ax2),(ax3,ax4)) = plt.subplots(2, 2, figsize=(16, 10),sharex=True)\n",
    "\n",
    "observed_wavelengths = np.linspace(3570,5440,len(continuum))\n",
    "\n",
    "ax1.plot(observed_wavelengths,resampled_flux)\n",
    "ax1.set_title(\"Raw Spectra\")\n",
    "\n",
    "\n",
    "ax2.plot(observed_wavelengths,resampled_flux)\n",
    "ax2.plot(observed_wavelengths,continuum)\n",
    "\n",
    "ax2.set_title(\"spectra with continuum\")\n",
    "\n",
    "ax3.plot(observed_wavelengths,normalized)\n",
    "ax3.set_ylim(top=max(normalized)+0.1)\n",
    "ax3.set_title(\"normalized spectra\")\n",
    "fig.text(0.5, 0.04, 'Wavelengths', ha='center',size=15)\n",
    "fig.text(0.09, 0.5, 'Flux', va='center', rotation='vertical',size=15)\n",
    "plt.show()\n",
    "\n",
    "ax4.plot(tmplt_wavelengths[idx],tmplt_norm_og[idx])\n",
    "ax4.set_ylim(top=max(normalized)+0.1)\n",
    "ax4.set_title(\"normalized spectra\")\n",
    "fig.text(0.5, 0.04, 'Wavelengths', ha='center',size=15)\n",
    "fig.text(0.09, 0.5, 'Flux', va='center', rotation='vertical',size=15)\n",
    "plt.show()"
   ]
  },
  {
   "cell_type": "code",
   "execution_count": 7,
   "metadata": {},
   "outputs": [],
   "source": [
    "t = Table([tmplt_specs,tmplt_wavelengths,continuums,normalized_spectra,tmplt_norm_og,refit_tmplt_spec_arr],names=(\"specs\",\"wavelengths\",\"continuums\",\"norm_specs\",\"og_norm\",\"refit_tmplt\"))"
   ]
  },
  {
   "cell_type": "code",
   "execution_count": 9,
   "metadata": {},
   "outputs": [],
   "source": [
    "\n",
    "t = Table([tmplt_specs,tmplt_wavelengths,cntm_spectra,normalized_spectra,tmplt_norm_og,refit_tmplt_spec_arr],names=(\"specs\",\"wavelengths\",\"continuums\",\"norm_specs\",\"og_norm\",\"refit_tmplt\"))"
   ]
  },
  {
   "cell_type": "code",
   "execution_count": 10,
   "metadata": {},
   "outputs": [],
   "source": [
    "from astropy.io import fits\n",
    "dataset_dir = \"C:\\\\Users\\\\nachi\\\\OneDrive\\\\Desktop\\\\Hawkins Lab\\\\datasets\"\n",
    "modified_data_path = os.path.join(dataset_dir,\"UPDATED_TEMPELATE_SPECTRA.fits\")\n",
    "hdu = fits.BinTableHDU(t)\n",
    "hdu.writeto(modified_data_path,overwrite=True)"
   ]
  },
  {
   "cell_type": "code",
   "execution_count": null,
   "metadata": {},
   "outputs": [],
   "source": [
    "#Checking if the changes have been added\n",
    "dataset_dir = \"C:\\\\Users\\\\nachi\\\\OneDrive\\\\Desktop\\\\Hawkins Lab\\\\datasets\"\n",
    "spec_data_path = os.path.join(dataset_dir,\"UPDATED_TEMPELATE_SPECTRA.fits\")\n",
    "spec_data = Table.read(spec_data_path)\n",
    "for name in sorted(spec_data.colnames):\n",
    "    print(name)"
   ]
  },
  {
   "cell_type": "code",
   "execution_count": null,
   "metadata": {},
   "outputs": [],
   "source": []
  }
 ],
 "metadata": {
  "kernelspec": {
   "display_name": "base",
   "language": "python",
   "name": "python3"
  },
  "language_info": {
   "codemirror_mode": {
    "name": "ipython",
    "version": 3
   },
   "file_extension": ".py",
   "mimetype": "text/x-python",
   "name": "python",
   "nbconvert_exporter": "python",
   "pygments_lexer": "ipython3",
   "version": "3.11.5"
  }
 },
 "nbformat": 4,
 "nbformat_minor": 2
}

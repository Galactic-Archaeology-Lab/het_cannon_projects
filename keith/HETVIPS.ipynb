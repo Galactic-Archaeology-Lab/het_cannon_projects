{
 "cells": [
  {
   "cell_type": "code",
   "execution_count": 1,
   "id": "19f385a8",
   "metadata": {},
   "outputs": [],
   "source": [
    "import numpy as np\n",
    "from startup import *\n",
    "from math import *\n",
    "import pylab as p\n",
    "from matplotlib import *\n",
    "from utils import *\n",
    "#import pyfits\n",
    "import astropy.io.fits as pyfits\n",
    "import re\n",
    "import numpy.random as rand\n",
    "import random as random\n",
    "#import random as randd\n",
    "import pickle\n",
    "import random as random\n",
    "from scipy.interpolate import *\n",
    "import csv\n",
    "import sys\n",
    "from astropy.table import Table\n",
    "from matplotlib.colors import LogNorm\n",
    "from matplotlib.ticker import MaxNLocator\n",
    "from astropy.table import join\n",
    "from astropy.coordinates import SkyCoord\n",
    "import astropy.units as units\n",
    "#--setfig --\n",
    "def setfig(fig, **kwargs):\n",
    "    if fig == 0 :\n",
    "        pass\n",
    "    elif fig:\n",
    "        p.figure(fig,**kwargs)\n",
    "        p.clf()\n",
    "    else:\n",
    "        p.figure(**kwargs)\n",
    "#-------\n",
    "\n",
    "\n",
    "HETDEX_path = '/Users/khawkins/Desktop/data/HETDEX/HETVIPS/'\n",
    "waves = linspace(3470,5540,num=1036)\n",
    "\n",
    "%matplotlib widget\n"
   ]
  },
  {
   "cell_type": "code",
   "execution_count": 5,
   "id": "367a788b",
   "metadata": {},
   "outputs": [],
   "source": [
    "import matplotlib\n",
    "font = {'family' : 'serif',\n",
    "        'weight' : 'normal',\n",
    "        'size'   : 22}\n",
    "matplotlib.rc('font', **font)\n",
    "\n",
    "p.rcParams[\"xtick.direction\"] = \"in\"\n",
    "p.rcParams[\"ytick.direction\"] = \"in\"\n",
    "p.rcParams['font.size'] = 16\n",
    "p.rcParams['xtick.top'] = True\n",
    "p.rcParams['xtick.major.size']=6\n",
    "p.rcParams['xtick.minor.size']=3\n",
    "p.rcParams['xtick.major.width']=1.5#2.0\n",
    "p.rcParams['xtick.minor.width']=1.0\n",
    "p.rcParams['xtick.minor.visible'] = True\n",
    "\n",
    "p.rcParams['font.size'] = 16\n",
    "p.rcParams['ytick.right'] = True\n",
    "p.rcParams['ytick.major.size']=6\n",
    "p.rcParams['ytick.minor.size']=3\n",
    "p.rcParams['ytick.major.width']=1.5#2.0\n",
    "p.rcParams['ytick.minor.width']=1.0\n",
    "p.rcParams['ytick.minor.visible'] = True\n",
    "\n",
    "\n",
    "p.rc('axes',prop_cycle=(cycler('color', ['k','b','g','r','c','m','y'])))\n",
    "p.rcParams['lines.linewidth']= 1.5\n",
    "p.rcParams['axes.linewidth']=2.0\n",
    "\n",
    "p.rcParams['text.usetex']= True\n",
    "p.rcParams['mathtext.default']= 'rm'\n",
    "p.rcParams['axes.formatter.use_mathtext']=False\n",
    "p.rcParams['axes.labelsize']=16.0\n",
    "p.rcParams['axes.unicode_minus']=False\n",
    "\n",
    "\n",
    "p.rcParams['axes.linewidth']=2.5\n",
    "#p.rcParams['axes.labelsize']='medium'\n",
    "p.rcParams['axes.titlesize']=20#'large'\n",
    "#p.rcParams['xtick.labelsize'] = 'medium' # fontsize of the tick labels\n",
    "#p.rcParams['ytick.labelsize']='medium'\n",
    "p.rcParams['xtick.labelsize'] = 20#'x-large' # fontsize of the tick labels\n",
    "p.rcParams['ytick.labelsize']=20 #'x-large'"
   ]
  },
  {
   "cell_type": "markdown",
   "id": "777148ae",
   "metadata": {},
   "source": [
    "Lets begin by plotting reading in the final spectral table and making code to plot it"
   ]
  },
  {
   "cell_type": "code",
   "execution_count": 6,
   "id": "25e238b2",
   "metadata": {},
   "outputs": [
    {
     "name": "stderr",
     "output_type": "stream",
     "text": [
      "WARNING: VerifyWarning: It is strongly recommended that column names contain only upper and lower-case ASCII letters, digits, or underscores for maximum compatibility with other software (got '[Fe/H]'). [astropy.io.fits.column]\n"
     ]
    }
   ],
   "source": [
    "H = Table.read('/Users/khawkins/Desktop/data/HETDEX/HETVIPS_star_spectra_dec12_gaia.fits')"
   ]
  },
  {
   "cell_type": "code",
   "execution_count": 7,
   "id": "7554d22a",
   "metadata": {},
   "outputs": [
    {
     "data": {
      "application/vnd.jupyter.widget-view+json": {
       "model_id": "9148998ecb81448fb76edc10e0d151d8",
       "version_major": 2,
       "version_minor": 0
      },
      "text/plain": [
       "Canvas(toolbar=Toolbar(toolitems=[('Home', 'Reset original view', 'home', 'home'), ('Back', 'Back to previous …"
      ]
     },
     "metadata": {},
     "output_type": "display_data"
    }
   ],
   "source": [
    "p.figure()\n",
    "p.hexbin(H['gmag'],H['sn'], bins='log',mincnt=1)\n",
    "p.axhline(y=5,ls='--',color='gray',lw=2)\n",
    "p.xlabel('g') ; p.ylabel('SNR (frm Greg)')\n",
    "p.tight_layout()"
   ]
  },
  {
   "cell_type": "markdown",
   "id": "8bac6505",
   "metadata": {},
   "source": [
    "Now lets measure the SNR in the same way as Hawkins+2021"
   ]
  },
  {
   "cell_type": "code",
   "execution_count": 8,
   "id": "169d79a3",
   "metadata": {},
   "outputs": [
    {
     "data": {
      "text/plain": [
       "['ObjID',\n",
       " 'ra',\n",
       " 'dec',\n",
       " 'sn',\n",
       " 'gmag',\n",
       " 'filename',\n",
       " 'index_in_file',\n",
       " 'spec',\n",
       " 'spec_error',\n",
       " 'spec_weight',\n",
       " 'RV',\n",
       " 'barycorr',\n",
       " 'DR3Name',\n",
       " 'RAdeg',\n",
       " 'DEdeg',\n",
       " 'errHalfMaj',\n",
       " 'errHalfMin',\n",
       " 'errPosAng',\n",
       " 'SolID',\n",
       " 'Source',\n",
       " 'RandomI',\n",
       " 'e_RAdeg',\n",
       " 'e_DEdeg',\n",
       " 'Plx',\n",
       " 'e_Plx',\n",
       " 'RPlx',\n",
       " 'PM',\n",
       " 'pmRA',\n",
       " 'e_pmRA',\n",
       " 'pmDE',\n",
       " 'e_pmDE',\n",
       " 'RADEcor',\n",
       " 'RAPlxcor',\n",
       " 'RApmRAcor',\n",
       " 'RApmDEcor',\n",
       " 'DEPlxcor',\n",
       " 'DEpmRAcor',\n",
       " 'DEpmDEcor',\n",
       " 'PlxpmRAcor',\n",
       " 'PlxpmDEcor',\n",
       " 'pmRApmDEcor',\n",
       " 'NAL',\n",
       " 'NAC',\n",
       " 'NgAL',\n",
       " 'NbAL',\n",
       " 'gofAL',\n",
       " 'chi2AL',\n",
       " 'epsi',\n",
       " 'sepsi',\n",
       " 'Solved',\n",
       " 'APF',\n",
       " 'nueff',\n",
       " 'pscol',\n",
       " 'e_pscol',\n",
       " 'RApscolCorr',\n",
       " 'DEpscolCorr',\n",
       " 'PlxpscolCorr',\n",
       " 'pmRApscolCorr',\n",
       " 'pmDEpscolCorr',\n",
       " 'MatchObsA',\n",
       " 'Nper',\n",
       " 'amax',\n",
       " 'MatchObs',\n",
       " 'IPDgofha',\n",
       " 'IPDgofhp',\n",
       " 'IPDfmp',\n",
       " 'IPDfow',\n",
       " 'RUWE',\n",
       " 'Dup',\n",
       " 'o_Gmag',\n",
       " 'FG',\n",
       " 'e_FG',\n",
       " 'RFG',\n",
       " 'Gmag_x',\n",
       " 'e_Gmag',\n",
       " 'o_BPmag',\n",
       " 'FBP',\n",
       " 'e_FBP',\n",
       " 'RFBP',\n",
       " 'BPmag',\n",
       " 'e_BPmag',\n",
       " 'o_RPmag',\n",
       " 'FRP',\n",
       " 'e_FRP',\n",
       " 'RFRP',\n",
       " 'RPmag',\n",
       " 'e_RPmag',\n",
       " 'E(BP/RP)',\n",
       " 'NBPcont',\n",
       " 'NBPblend',\n",
       " 'NRPcont',\n",
       " 'NRPblend',\n",
       " 'Mode',\n",
       " 'BP-RP',\n",
       " 'BP-G',\n",
       " 'G-RP',\n",
       " 'RV_x',\n",
       " 'e_RV',\n",
       " 'n_RV',\n",
       " 'o_RV',\n",
       " 'o_RVd',\n",
       " 'RVNper',\n",
       " 'RVS/N',\n",
       " 'RVgof',\n",
       " 'RVchi2',\n",
       " 'RVTdur',\n",
       " 'RVamp',\n",
       " 'RVtempTeff',\n",
       " 'RVtemplogg',\n",
       " 'RVtemp[Fe/H]',\n",
       " 'Vatmparam',\n",
       " 'vbroad',\n",
       " 'e_Vbroad',\n",
       " 'o_Vbroad',\n",
       " 'GRVSmag',\n",
       " 'e_GRVSmag',\n",
       " 'o_GRVSmag',\n",
       " 'RVSS/N',\n",
       " 'VarFlag',\n",
       " 'PQSO',\n",
       " 'PGal',\n",
       " 'PSS',\n",
       " 'Teff',\n",
       " 'b_Teff_x',\n",
       " 'B_Teff_xa',\n",
       " 'logg',\n",
       " 'b_logg_x',\n",
       " 'B_logg_xa',\n",
       " '[Fe/H]',\n",
       " 'b_[Fe/H]_x',\n",
       " 'B_[Fe/H]_xa',\n",
       " 'Dist',\n",
       " 'b_Dist_x',\n",
       " 'B_Dist_xa',\n",
       " 'A0',\n",
       " 'b_A0_x',\n",
       " 'B_A0_xa',\n",
       " 'AG',\n",
       " 'b_AG_x',\n",
       " 'B_AG_xa',\n",
       " 'E(BP-RP)',\n",
       " 'b_E(BP-RP)_x',\n",
       " 'B_E(BP-RP)_xa',\n",
       " 'Lib',\n",
       " 'RAJ2000',\n",
       " 'DEJ2000',\n",
       " 'e_RAJ2000',\n",
       " 'e_DEJ2000',\n",
       " 'RADEcorJ2000',\n",
       " 'angDist']"
      ]
     },
     "execution_count": 8,
     "metadata": {},
     "output_type": "execute_result"
    }
   ],
   "source": [
    "H.colnames"
   ]
  },
  {
   "cell_type": "code",
   "execution_count": 9,
   "id": "66bb87c9",
   "metadata": {},
   "outputs": [],
   "source": [
    "def add_SNR_usingfluxerr_totable(M,weight_cut = 0.5):\n",
    "    per_weight_overlim = []\n",
    "    SNRs = []\n",
    "    M['SNR_HETDEX'] = [nan]*len(M)\n",
    "    M['percent_over_weight_%.2f'%weight_cut] = [nan]*len(M)\n",
    "    reordering_index= []\n",
    "    for i in range(len(M)):\n",
    "        weights = array(M['spec_weight'][i])\n",
    "        err =  array(M['spec_error'][i])\n",
    "        flux = array(M['spec'][i])\n",
    "        SNRall = flux/err\n",
    "\n",
    "        if nanmedian(SNRall) < 0:\n",
    "            M['SNR_HETDEX'][i] = nan\n",
    "        else:\n",
    "            M['SNR_HETDEX'][i] = nanmedian(SNRall)\n",
    "            M['percent_over_weight_%.2f'%weight_cut][i] = len(where(weights >= weight_cut)[0])/ float(len(weights))\n",
    "    p.figure()\n",
    "    ok = where(M['SNR_HETDEX'] >= 0.5)[0]\n",
    "    print(nanmedian(M['SNR_HETDEX']), len(ok))\n",
    "    s = p.hexbin(M['gmag'][ok], M['SNR_HETDEX'][ok],bins='log',mincnt=1E-2,cmap='plasma',yscale='log')\n",
    "    cb = p.colorbar(s) ; cb.set_label('log (N)')\n",
    "    p.axhline(y=5,ls='--',color='k',lw=2)\n",
    "    #p.yscale('log')\n",
    "    p.xlabel('G')\n",
    "    p.ylabel('SNR (pixel$^{-1}$)')\n",
    "    p.tight_layout()\n",
    "    return M "
   ]
  },
  {
   "cell_type": "code",
   "execution_count": 10,
   "id": "e7ecf9fc",
   "metadata": {},
   "outputs": [
    {
     "data": {
      "application/vnd.jupyter.widget-view+json": {
       "model_id": "f48eb8f687dc4bb08b95d9ce93e2bee6",
       "version_major": 2,
       "version_minor": 0
      },
      "text/plain": [
       "Canvas(toolbar=Toolbar(toolitems=[('Home', 'Reset original view', 'home', 'home'), ('Back', 'Back to previous …"
      ]
     },
     "metadata": {},
     "output_type": "display_data"
    },
    {
     "name": "stderr",
     "output_type": "stream",
     "text": [
      "/Users/khawkins/opt/anaconda3/lib/python3.8/site-packages/numpy/lib/function_base.py:3823: UserWarning: Warning: 'partition' will ignore the 'mask' of the MaskedColumn.\n",
      "  part.partition(kth)\n"
     ]
    },
    {
     "name": "stdout",
     "output_type": "stream",
     "text": [
      "12.400279634627651 224008\n"
     ]
    }
   ],
   "source": [
    "H = add_SNR_usingfluxerr_totable(H)"
   ]
  },
  {
   "cell_type": "code",
   "execution_count": 18,
   "id": "53abe752",
   "metadata": {},
   "outputs": [
    {
     "data": {
      "application/vnd.jupyter.widget-view+json": {
       "model_id": "faae12e6b6a94df98ce6bc0b08780983",
       "version_major": 2,
       "version_minor": 0
      },
      "text/plain": [
       "Canvas(toolbar=Toolbar(toolitems=[('Home', 'Reset original view', 'home', 'home'), ('Back', 'Back to previous …"
      ]
     },
     "metadata": {},
     "output_type": "display_data"
    },
    {
     "data": {
      "text/plain": [
       "Text(0, 0.5, 'flux')"
      ]
     },
     "execution_count": 18,
     "metadata": {},
     "output_type": "execute_result"
    }
   ],
   "source": [
    "p.figure()\n",
    "p.plot(H['spec'][224089])\n",
    "nanmedian(array(H['spec'][224089])/array(H['spec_error'][224089]))\n",
    "p.xlabel('$\\lambda$/\\AA'); p.ylabel('flux')"
   ]
  },
  {
   "cell_type": "markdown",
   "id": "148a4535",
   "metadata": {},
   "source": [
    "Now lets create a code to plot up a spectrum "
   ]
  },
  {
   "cell_type": "code",
   "execution_count": 12,
   "id": "07dc3112",
   "metadata": {},
   "outputs": [],
   "source": [
    "def plot_spec(D, index=10, fig = 1,**kwargs):\n",
    "    setfig(fig, figsize=(15,4))\n",
    "    #p.figure(figsize=(15,4))\n",
    "    p.plot(waves, D['spec'][index],**kwargs)\n",
    "    p.xlabel('wavelength (\\AA)')\n",
    "    p.title(D['ObjID'][index])\n",
    "    p.xlim([3450,5550])\n",
    "    p.ylabel('Flux')\n",
    "    p.tight_layout()"
   ]
  },
  {
   "cell_type": "markdown",
   "id": "6d6aed51",
   "metadata": {},
   "source": [
    "Lets plot a random spectrum that has good sn"
   ]
  },
  {
   "cell_type": "code",
   "execution_count": null,
   "id": "c6992b4a",
   "metadata": {},
   "outputs": [],
   "source": []
  },
  {
   "cell_type": "code",
   "execution_count": null,
   "id": "dcc09ff5",
   "metadata": {},
   "outputs": [],
   "source": []
  },
  {
   "cell_type": "code",
   "execution_count": 13,
   "id": "c74e95ca",
   "metadata": {},
   "outputs": [],
   "source": [
    "okSNR = where(H['sn']> 20)[0]\n",
    "plot_spec(H[okSNR], index=40)"
   ]
  },
  {
   "cell_type": "markdown",
   "id": "c13400a6",
   "metadata": {},
   "source": [
    "Ok lets try something more complex... lets try to code up the HRD plot with the stacked spectra. This may be a challenge because we need to first do a gaia cross match"
   ]
  },
  {
   "cell_type": "code",
   "execution_count": 14,
   "id": "65736db7",
   "metadata": {},
   "outputs": [],
   "source": [
    "def make_HRD(T=None,parallax_cut=0.3, SNRcut=5,weight_lim=0.3,specpath = '/Users/khawkins/Desktop/data/HETDEX/HDR2.1/'):\n",
    "    from matplotlib import cm\n",
    "    import matplotlib\n",
    "    #T = Table.read(HETDEX_path+'HDR2_gaia_unique_angDsort_GZ.fits')\n",
    "    if T is None:\n",
    "        T = Table.read(HETDEX_path+'HDR2.1/HDR2.1_Gaia_SNRs_all.fits')\n",
    "    ok = where((T['e_Plx']/T['Plx'] < parallax_cut) & (T['BP-RP'] < 3.2))[0]\n",
    "    T = T[ok]\n",
    "    absG = T['Gmag_x'] - 5*(log10(1000./T['Plx']) - 1)\n",
    "    G = T['Gmag_x']\n",
    "    BPRP = T['BP-RP']\n",
    "    SNR = T['sn']\n",
    "    norm = matplotlib.colors.Normalize(vmin=0, vmax=10)\n",
    "\n",
    "    b1 = where((absG >= 11.5) & (BPRP > 1.5)&(SNR > SNRcut))[0]\n",
    "    b2 = where((absG > 9.8) &(absG < 11.5)& (BPRP > 1.5)&(SNR > SNRcut))[0]\n",
    "    b3 = where((absG > 8.5) &(absG <= 9.8)& (BPRP > 1.5)&(SNR > SNRcut))[0]\n",
    "    b4 = where((absG > 7.5) &(absG <= 8.5 )& (SNR > SNRcut))[0]\n",
    "    b5 = where((absG > 6.5) &(absG <= 7.5 )& (SNR > SNRcut))[0]\n",
    "    b6 = where((absG > 5.5) &(absG <= 6.5 )& (SNR > SNRcut))[0]\n",
    "    b7 = where((absG > 4.5) &(absG <= 5.5 )& (BPRP >0.5)& (SNR > SNRcut) )[0]\n",
    "    b8 = where((absG > 3.5) &(absG <= 4.5 )&  (BPRP >0.5)&(SNR > SNRcut))[0]\n",
    "    b9 = where((absG > 2.5) &(absG <= 3.5 )&  (BPRP >0.5)&(SNR > SNRcut))[0]\n",
    "    b9 = where((absG > 2.5) &(absG <= 3.5 )& (BPRP >0.5)& (SNR > SNRcut+10))[0]\n",
    "\n",
    "    # -- def white dwarf line---\n",
    "    def lin(x,m,b):\n",
    "        return m*x+b\n",
    "    m = (10.67-12.78)/ (-0.13-0.38)\n",
    "    b= 10.99\n",
    "    Ys = lin(BPRP,m,b)\n",
    "    b10 = where((absG>11.0)&(SNR > SNRcut) & (BPRP <= 0.4) &(Ys-absG<0))[0]\n",
    "    print(len(b10))\n",
    "    bins = [b10,b9,b8,b7,b6,b5,b4,b3,b2,b1]\n",
    "    WD = T[b10]\n",
    "    #return WD\n",
    "\n",
    "\n",
    "\n",
    "\n",
    "    p.figure(figsize=(12,7))\n",
    "    ax1 = p.subplot(1,2,1)\n",
    "    p.plot(BPRP, absG, 'o', color='gray',ms=0.6)\n",
    "    for i in range(len(bins)):\n",
    "        color = cm.plasma(norm(i),bytes=False) \n",
    "\n",
    "        p.plot(BPRP[bins[i]],absG[bins[i]],'o',ms=2,color=color)\n",
    "\n",
    "    p.xlabel('(BP-RP)') ; p.ylabel(r'M$_{\\mathrm{G}}$')\n",
    "    p.gca().invert_yaxis()\n",
    "    p.axvline(x=0.8, ls='--',color='k',lw=0.9)\n",
    "    p.axvline(x=2.0, ls='--',color='k',lw=0.9)\n",
    "    #p.plot(BPRP,m*BPRP+b)\n",
    "    #raise a\n",
    "\n",
    "\n",
    "    ax2 = p.subplot(1,2,2)\n",
    "    #offset = [0,0.5,1.0,1.5,2.0,2.5,2.8,3.1,3.4,3.7]\n",
    "    minF=0; offset=0\n",
    "    #p.figure()\n",
    "    for i in range(len(bins)):\n",
    "        print(i)\n",
    "        b = bins[i]\n",
    "        specs = []\n",
    "        color = cm.plasma(norm(i),bytes=False) \n",
    "\n",
    "        for j in range(len(b)):\n",
    "            #if j > 10:\n",
    "            #\tcontinue\n",
    "            badind = where(T['spec_weight'][b[j]] < weight_lim)[0]\n",
    "            flux = T['spec'][b[j]]\n",
    "            flux[badind] = nan\n",
    "            specs.append(flux)\n",
    "            waves = linspace(3470,5540,num=len(specs[0]))\n",
    "            #p.plot(waves,flux/nanmax(flux),color='gray',lw=0.1)\n",
    "            #p.plot(waves,nanmedian(specs,axis=1),'k-')\n",
    "\n",
    "\n",
    "        #raise a\n",
    "        waves = linspace(3470,5540,num=len(specs[0]))\n",
    "        F = nanmedian(specs,axis=0)\n",
    "        okwave = where((waves > 3540) & (waves < 5500))[0]\n",
    "        F = F[okwave] ; waves=waves[okwave]\n",
    "        normF = F/nanmax(F)\n",
    "        if i < 5:\n",
    "            offset=  - 0.2- (minF - nanmax(normF)) \n",
    "        else:\n",
    "            offset=  - 0.55- (minF - nanmax(normF)) \n",
    "\n",
    "        if i==0 : offset= 0\n",
    "        normF -= 0.6*i\n",
    "        print(offset, minF, nanmin(normF))\n",
    "        minF = nanmin(normF) \n",
    "        print('bin %i has %i stars'%(i+1,len(specs)))\n",
    "\n",
    "\n",
    "        p.plot(waves, normF, color=color, lw=2.5)\n",
    "        #raise a\n",
    "\n",
    "    p.ylabel(r'F$_{\\lambda}$+ cnst')\n",
    "    p.gca().axes.yaxis.set_ticklabels([])\n",
    "    p.xlabel('Wavelength (\\AA)')\n",
    "\n",
    "    p.tight_layout\n",
    "\n"
   ]
  },
  {
   "cell_type": "markdown",
   "id": "4ae4bd65",
   "metadata": {},
   "source": [
    "Lets add some code to pre-process the spectra by filling nans and flux normalizing using Boosted Median"
   ]
  },
  {
   "cell_type": "code",
   "execution_count": 15,
   "id": "e681babc",
   "metadata": {},
   "outputs": [
    {
     "name": "stdout",
     "output_type": "stream",
     "text": [
      "62\n"
     ]
    },
    {
     "name": "stderr",
     "output_type": "stream",
     "text": [
      "<ipython-input-14-dcfe6a5a854d>:9: RuntimeWarning: invalid value encountered in log10\n",
      "  absG = T['Gmag_x'] - 5*(log10(1000./T['Plx']) - 1)\n"
     ]
    },
    {
     "data": {
      "application/vnd.jupyter.widget-view+json": {
       "model_id": "c110f28efb964d178c749b1f6adb5a69",
       "version_major": 2,
       "version_minor": 0
      },
      "text/plain": [
       "Canvas(toolbar=Toolbar(toolitems=[('Home', 'Reset original view', 'home', 'home'), ('Back', 'Back to previous …"
      ]
     },
     "metadata": {},
     "output_type": "display_data"
    },
    {
     "name": "stderr",
     "output_type": "stream",
     "text": [
      "/Users/khawkins/opt/anaconda3/lib/python3.8/site-packages/numpy/lib/nanfunctions.py:1218: RuntimeWarning: All-NaN slice encountered\n",
      "  r, k = function_base._ureduce(a, func=_nanmedian, axis=axis, out=out,\n"
     ]
    },
    {
     "name": "stdout",
     "output_type": "stream",
     "text": [
      "0\n",
      "0 0 0.23863330654515402\n",
      "bin 1 has 62 stars\n",
      "1\n",
      "0.561366693454846 0.23863330654515402 -0.4131492565138093\n",
      "bin 2 has 5262 stars\n",
      "2\n",
      "1.2131492565138093 -0.4131492565138093 -1.009518145211996\n",
      "bin 3 has 13198 stars\n",
      "3\n",
      "1.8095181452119962 -1.009518145211996 -1.6359941141448557\n",
      "bin 4 has 16141 stars\n",
      "4\n",
      "2.4359941141448553 -1.6359941141448557 -2.28290145142769\n",
      "bin 5 has 14729 stars\n",
      "5\n",
      "2.73290145142769 -2.28290145142769 -2.9221876629981454\n",
      "bin 6 has 10800 stars\n",
      "6\n",
      "3.3721876629981455 -2.9221876629981454 -3.5422208768391763\n",
      "bin 7 has 7047 stars\n",
      "7\n",
      "3.992220876839176 -3.5422208768391763 -4.147665206680893\n",
      "bin 8 has 5274 stars\n",
      "8\n",
      "4.597665206680893 -4.147665206680893 -4.75871977456819\n",
      "bin 9 has 2737 stars\n",
      "9\n",
      "5.20871977456819 -4.75871977456819 -5.324547971940242\n",
      "bin 10 has 4316 stars\n"
     ]
    }
   ],
   "source": [
    "make_HRD(H)"
   ]
  },
  {
   "cell_type": "markdown",
   "id": "88705682",
   "metadata": {},
   "source": [
    "Lets use topcat and crossmatch LAMOSTxGaia with HETVIPS. This table is 6,230 or so stars. Lets try to build a training set from these."
   ]
  },
  {
   "cell_type": "code",
   "execution_count": 12,
   "id": "306194fc",
   "metadata": {},
   "outputs": [
    {
     "data": {
      "application/vnd.jupyter.widget-view+json": {
       "model_id": "4be88b1dc97c4a958b9fa27fea02cc9f",
       "version_major": 2,
       "version_minor": 0
      },
      "text/plain": [
       "Canvas(toolbar=Toolbar(toolitems=[('Home', 'Reset original view', 'home', 'home'), ('Back', 'Back to previous …"
      ]
     },
     "metadata": {},
     "output_type": "display_data"
    },
    {
     "name": "stdout",
     "output_type": "stream",
     "text": [
      "133.76629819320752 6230\n"
     ]
    },
    {
     "name": "stderr",
     "output_type": "stream",
     "text": [
      "/Users/khawkins/opt/anaconda3/lib/python3.8/site-packages/numpy/core/fromnumeric.py:758: UserWarning: Warning: 'partition' will ignore the 'mask' of the MaskedColumn.\n",
      "  a.partition(kth, axis=axis, kind=kind, order=order)\n"
     ]
    }
   ],
   "source": [
    "D = Table.read('/Users/khawkins/Desktop/data/HETDEX/HETVIPS_specxLAMOSTxGaiaDR3.fits')\n",
    "D = add_SNR_usingfluxerr_totable(D)"
   ]
  },
  {
   "cell_type": "code",
   "execution_count": 13,
   "id": "3b83b5d5",
   "metadata": {},
   "outputs": [],
   "source": [
    "ok = where( (D['SNR_HETDEX']>10) & (D['SNR_G']>10)& (D['TEFF']>4000)& (D['TEFF']<7000)& (D['LOGG']>3.5)& \\\n",
    "           (D['LOGG']<5)& (D['TEFF_ERR']<100)& (D['LOGG_ERR']<0.2)& (D['FEH_ERR']<0.1)& \\\n",
    "           (D['TEFF']>4000) &  (D['LOGG_ERR']<0.2))[0]"
   ]
  },
  {
   "cell_type": "code",
   "execution_count": 14,
   "id": "e0656e84",
   "metadata": {},
   "outputs": [
    {
     "data": {
      "text/plain": [
       "['ObjID',\n",
       " 'ra',\n",
       " 'dec',\n",
       " 'sn',\n",
       " 'gmag',\n",
       " 'filename_1',\n",
       " 'index_in_file',\n",
       " 'spec',\n",
       " 'spec_error',\n",
       " 'spec_weight',\n",
       " 'RV_1',\n",
       " 'barycorr',\n",
       " 'SPECID_1',\n",
       " 'RA_1',\n",
       " 'DEC_1',\n",
       " 'SNR_U',\n",
       " 'SNR_G',\n",
       " 'SNR_R',\n",
       " 'SNR_I',\n",
       " 'SNR_Z',\n",
       " 'RV_2',\n",
       " 'RV_ERR',\n",
       " 'TEFF',\n",
       " 'TEFF_ERR',\n",
       " 'TEFF_FLAG',\n",
       " 'TEFF_GRADCORR',\n",
       " 'LOGG',\n",
       " 'LOGG_ERR',\n",
       " 'LOGG_FLAG',\n",
       " 'LOGG_GRADCORR',\n",
       " 'VMIC',\n",
       " 'VMIC_ERR',\n",
       " 'VMIC_FLAG',\n",
       " 'VMIC_GRADCORR',\n",
       " 'FEH',\n",
       " 'FEH_ERR',\n",
       " 'FEH_FLAG',\n",
       " 'FEH_GRADCORR',\n",
       " 'ALPHA_FE',\n",
       " 'ALPHA_FE_ERR',\n",
       " 'C_FE',\n",
       " 'C_FE_ERR',\n",
       " 'C_FE_FLAG',\n",
       " 'C_FE_GRADCORR',\n",
       " 'N_FE',\n",
       " 'N_FE_ERR',\n",
       " 'N_FE_FLAG',\n",
       " 'N_FE_GRADCORR',\n",
       " 'O_FE',\n",
       " 'O_FE_ERR',\n",
       " 'O_FE_FLAG',\n",
       " 'O_FE_GRADCORR',\n",
       " 'NA_FE',\n",
       " 'NA_FE_ERR',\n",
       " 'NA_FE_FLAG',\n",
       " 'NA_FE_GRADCORR',\n",
       " 'MG_FE',\n",
       " 'MG_FE_ERR',\n",
       " 'MG_FE_FLAG',\n",
       " 'MG_FE_GRADCORR',\n",
       " 'AL_FE',\n",
       " 'AL_FE_ERR',\n",
       " 'AL_FE_FLAG',\n",
       " 'AL_FE_GRADCORR',\n",
       " 'SI_FE',\n",
       " 'SI_FE_ERR',\n",
       " 'SI_FE_FLAG',\n",
       " 'SI_FE_GRADCORR',\n",
       " 'CA_FE',\n",
       " 'CA_FE_ERR',\n",
       " 'CA_FE_FLAG',\n",
       " 'CA_FE_GRADCORR',\n",
       " 'TI_FE',\n",
       " 'TI_FE_ERR',\n",
       " 'TI_FE_FLAG',\n",
       " 'TI_FE_GRADCORR',\n",
       " 'CR_FE',\n",
       " 'CR_FE_ERR',\n",
       " 'CR_FE_FLAG',\n",
       " 'CR_FE_GRADCORR',\n",
       " 'MN_FE',\n",
       " 'MN_FE_ERR',\n",
       " 'MN_FE_FLAG',\n",
       " 'MN_FE_GRADCORR',\n",
       " 'CO_FE',\n",
       " 'CO_FE_ERR',\n",
       " 'CO_FE_FLAG',\n",
       " 'CO_FE_GRADCORR',\n",
       " 'NI_FE',\n",
       " 'NI_FE_ERR',\n",
       " 'NI_FE_FLAG',\n",
       " 'NI_FE_GRADCORR',\n",
       " 'CU_FE',\n",
       " 'CU_FE_ERR',\n",
       " 'CU_FE_FLAG',\n",
       " 'CU_FE_GRADCORR',\n",
       " 'BA_FE',\n",
       " 'BA_FE_ERR',\n",
       " 'BA_FE_FLAG',\n",
       " 'BA_FE_GRADCORR',\n",
       " 'CHI2',\n",
       " 'CHI2RATIO',\n",
       " 'QFLAG_CHI2',\n",
       " 'CHI2_NA',\n",
       " 'CHI2RATIO_NA',\n",
       " 'QFLAG_CHI2NA',\n",
       " 'SNR_DPARALLAX',\n",
       " 'FLAG_SINGLESTAR',\n",
       " 'UQFLAG',\n",
       " 'STARID',\n",
       " 'SUBCLASS',\n",
       " 'FILENAME_2',\n",
       " 'specid_2',\n",
       " 'solution_id',\n",
       " 'designation',\n",
       " 'source_id_1',\n",
       " 'random_index',\n",
       " 'ref_epoch',\n",
       " 'ra_2',\n",
       " 'ra_error',\n",
       " 'dec_2',\n",
       " 'dec_error',\n",
       " 'parallax',\n",
       " 'parallax_error',\n",
       " 'parallax_over_error',\n",
       " 'pm',\n",
       " 'pmra',\n",
       " 'pmra_error',\n",
       " 'pmdec',\n",
       " 'pmdec_error',\n",
       " 'ra_dec_corr',\n",
       " 'ra_parallax_corr',\n",
       " 'ra_pmra_corr',\n",
       " 'ra_pmdec_corr',\n",
       " 'dec_parallax_corr',\n",
       " 'dec_pmra_corr',\n",
       " 'dec_pmdec_corr',\n",
       " 'parallax_pmra_corr',\n",
       " 'parallax_pmdec_corr',\n",
       " 'pmra_pmdec_corr',\n",
       " 'astrometric_n_obs_al',\n",
       " 'astrometric_n_obs_ac',\n",
       " 'astrometric_n_good_obs_al',\n",
       " 'astrometric_n_bad_obs_al',\n",
       " 'astrometric_gof_al',\n",
       " 'astrometric_chi2_al',\n",
       " 'astrometric_excess_noise',\n",
       " 'astrometric_excess_noise_sig',\n",
       " 'astrometric_params_solved',\n",
       " 'astrometric_primary_flag',\n",
       " 'nu_eff_used_in_astrometry',\n",
       " 'pseudocolour',\n",
       " 'pseudocolour_error',\n",
       " 'ra_pseudocolour_corr',\n",
       " 'dec_pseudocolour_corr',\n",
       " 'parallax_pseudocolour_corr',\n",
       " 'pmra_pseudocolour_corr',\n",
       " 'pmdec_pseudocolour_corr',\n",
       " 'astrometric_matched_transits',\n",
       " 'visibility_periods_used',\n",
       " 'astrometric_sigma5d_max',\n",
       " 'matched_transits',\n",
       " 'new_matched_transits',\n",
       " 'matched_transits_removed',\n",
       " 'ipd_gof_harmonic_amplitude',\n",
       " 'ipd_gof_harmonic_phase',\n",
       " 'ipd_frac_multi_peak',\n",
       " 'ipd_frac_odd_win',\n",
       " 'ruwe',\n",
       " 'scan_direction_strength_k1',\n",
       " 'scan_direction_strength_k2',\n",
       " 'scan_direction_strength_k3',\n",
       " 'scan_direction_strength_k4',\n",
       " 'scan_direction_mean_k1',\n",
       " 'scan_direction_mean_k2',\n",
       " 'scan_direction_mean_k3',\n",
       " 'scan_direction_mean_k4',\n",
       " 'duplicated_source',\n",
       " 'phot_g_n_obs',\n",
       " 'phot_g_mean_flux',\n",
       " 'phot_g_mean_flux_error',\n",
       " 'phot_g_mean_flux_over_error',\n",
       " 'phot_g_mean_mag',\n",
       " 'phot_bp_n_obs',\n",
       " 'phot_bp_mean_flux',\n",
       " 'phot_bp_mean_flux_error',\n",
       " 'phot_bp_mean_flux_over_error',\n",
       " 'phot_bp_mean_mag',\n",
       " 'phot_rp_n_obs',\n",
       " 'phot_rp_mean_flux',\n",
       " 'phot_rp_mean_flux_error',\n",
       " 'phot_rp_mean_flux_over_error',\n",
       " 'phot_rp_mean_mag',\n",
       " 'phot_bp_n_contaminated_transits',\n",
       " 'phot_bp_n_blended_transits',\n",
       " 'phot_rp_n_contaminated_transits',\n",
       " 'phot_rp_n_blended_transits',\n",
       " 'phot_proc_mode',\n",
       " 'phot_bp_rp_excess_factor',\n",
       " 'bp_rp',\n",
       " 'bp_g',\n",
       " 'g_rp',\n",
       " 'dr2_radial_velocity',\n",
       " 'dr2_radial_velocity_error',\n",
       " 'dr2_rv_nb_transits',\n",
       " 'dr2_rv_template_teff',\n",
       " 'dr2_rv_template_logg',\n",
       " 'dr2_rv_template_fe_h',\n",
       " 'l',\n",
       " 'b',\n",
       " 'ecl_lon',\n",
       " 'ecl_lat',\n",
       " 'dist',\n",
       " 'Separation_2',\n",
       " 'source_id_2',\n",
       " 'r_med_geo',\n",
       " 'r_lo_geo',\n",
       " 'r_hi_geo',\n",
       " 'r_med_photogeo',\n",
       " 'r_lo_photogeo',\n",
       " 'r_hi_photogeo',\n",
       " 'flag',\n",
       " 'Separation',\n",
       " 'SNR_HETDEX',\n",
       " 'percent_over_weight_0.50']"
      ]
     },
     "execution_count": 14,
     "metadata": {},
     "output_type": "execute_result"
    }
   ],
   "source": [
    "D.colnames"
   ]
  },
  {
   "cell_type": "code",
   "execution_count": 15,
   "id": "4538490c",
   "metadata": {},
   "outputs": [
    {
     "data": {
      "application/vnd.jupyter.widget-view+json": {
       "model_id": "5b63e326396b4f5e92b16aa45ea9c8c7",
       "version_major": 2,
       "version_minor": 0
      },
      "text/plain": [
       "Canvas(toolbar=Toolbar(toolitems=[('Home', 'Reset original view', 'home', 'home'), ('Back', 'Back to previous …"
      ]
     },
     "metadata": {},
     "output_type": "display_data"
    },
    {
     "data": {
      "text/plain": [
       "<matplotlib.colorbar.Colorbar at 0x7fe61e221520>"
      ]
     },
     "execution_count": 15,
     "metadata": {},
     "output_type": "execute_result"
    }
   ],
   "source": [
    "p.figure()\n",
    "S = p.hexbin(D['TEFF'][ok],D['LOGG'][ok],C=D['FEH'][ok],mincnt=1,gridsize=20)\n",
    "p.gca().invert_yaxis()\n",
    "p.gca().invert_xaxis()\n",
    "p.xlabel('Teff (K)'); p.ylabel('logg')\n",
    "p.colorbar(S,label='[Fe/H]')"
   ]
  },
  {
   "cell_type": "code",
   "execution_count": 16,
   "id": "eed7ae85",
   "metadata": {},
   "outputs": [
    {
     "data": {
      "application/vnd.jupyter.widget-view+json": {
       "model_id": "a20efab21eca4ec19ab5db49f786584f",
       "version_major": 2,
       "version_minor": 0
      },
      "text/plain": [
       "Canvas(toolbar=Toolbar(toolitems=[('Home', 'Reset original view', 'home', 'home'), ('Back', 'Back to previous …"
      ]
     },
     "metadata": {},
     "output_type": "display_data"
    },
    {
     "data": {
      "text/plain": [
       "[<matplotlib.lines.Line2D at 0x7fbb0c478cd0>]"
      ]
     },
     "execution_count": 16,
     "metadata": {},
     "output_type": "execute_result"
    }
   ],
   "source": [
    "p.figure()\n",
    "p.plot(D['spec'][10])\n",
    "p.plot(D['spec'][255],'r-')"
   ]
  },
  {
   "cell_type": "code",
   "execution_count": 17,
   "id": "baaa75e1",
   "metadata": {},
   "outputs": [
    {
     "data": {
      "text/plain": [
       "2987"
      ]
     },
     "execution_count": 17,
     "metadata": {},
     "output_type": "execute_result"
    }
   ],
   "source": [
    "len(ok)"
   ]
  },
  {
   "cell_type": "code",
   "execution_count": 18,
   "id": "dee733bb",
   "metadata": {
    "scrolled": true
   },
   "outputs": [
    {
     "data": {
      "text/plain": [
       "(array([  45,  119,  225,  249,  255,  259,  264,  265,  269,  288,  291,\n",
       "         292,  296,  297,  349,  357,  378,  381,  425,  440,  447,  449,\n",
       "         464,  465,  467,  469,  472,  499,  526,  527,  537,  558,  623,\n",
       "         640,  641,  643,  663,  675,  712,  715,  719,  730,  732,  776,\n",
       "         897,  956,  966,  972,  980, 1001, 1016, 1019, 1031, 1089, 1101,\n",
       "        1106, 1147, 1175, 1186, 1193, 1227, 1232, 1296, 1313, 1315, 1335,\n",
       "        1358, 1379, 1394, 1403, 1406, 1419, 1451, 1499, 1516, 1531, 1555,\n",
       "        1571, 1673, 1674, 1678, 1735, 1747, 1759, 1764, 1765, 1797, 1811,\n",
       "        2087, 2109, 2111, 2113, 2151, 2165, 2168, 2184, 2191, 2198, 2199,\n",
       "        2206, 2262, 2263, 2272, 2273, 2274, 2281, 2295, 2344, 2386, 2387,\n",
       "        2388, 2391, 2393, 2394, 2400, 2409, 2442, 2575, 2577, 2581, 2673,\n",
       "        2765, 2861, 2868, 2941, 2943, 2945, 2946, 2979, 2999, 3011, 3058,\n",
       "        3128, 3142, 3143, 3160, 3164, 3170, 3234, 3350, 3367, 3372, 3380,\n",
       "        3403, 3433, 3448, 3450, 3488, 3506, 3515, 3543, 3572, 3657, 3661,\n",
       "        3691, 3742, 3755, 3844, 3846, 3852, 3853, 3854, 3863, 3864, 3897,\n",
       "        3911, 3921, 3925, 3953, 3957, 3960, 3961, 3976, 4020, 4022, 4051,\n",
       "        4154, 4166, 4173, 4191, 4199, 4223, 4240, 4241, 4256, 4325, 4340,\n",
       "        4382, 4392, 4393, 4431, 4436, 4457, 4460, 4480, 4574, 4618, 4624,\n",
       "        4676, 4699, 4796, 4978, 5007, 5038, 5043, 5092, 5122, 5123, 5126,\n",
       "        5132, 5326, 5372, 5385, 5386, 5418, 5489, 5501, 5520, 5528, 5553,\n",
       "        5555, 5579, 5587, 5678, 5683, 5689, 6033, 6153, 6169]),)"
      ]
     },
     "execution_count": 18,
     "metadata": {},
     "output_type": "execute_result"
    }
   ],
   "source": [
    "\n",
    "where(D['RV_1']>10)"
   ]
  },
  {
   "cell_type": "code",
   "execution_count": 1,
   "id": "d7593b52",
   "metadata": {},
   "outputs": [],
   "source": [
    "def fill_nan_21(wave, fluxes,clean_outlier=None,RV=None):\n",
    "    from tqdm import tqdm\n",
    "    import numpy as np\n",
    "    from scipy import interpolate\n",
    "    import astropy.stats\n",
    "    fluxes= array(fluxes)\n",
    "    inds = np.arange(fluxes.shape[0])\n",
    "    \n",
    "    newspec = []\n",
    "    for i in tqdm(range(len(fluxes ))):\n",
    "        if clean_outlier is not None:\n",
    "            fluxes[i] = astropy.stats.sigma_clip(fluxes[i],sigma_upper=clean_outlier,sigma_lower=10,maxiters=2)\n",
    "            #fluxes[i]=fluxes[i].filled(fill_value=nan)\n",
    "        #if RV is not None:\n",
    "        #\tfactor = RV[i] / 2.99792458E5\n",
    "        #\twaves = sqrt((1+factor)/(1-factor))*waves\n",
    "\n",
    "        #good = np.where(np.isfinite(fluxes[i]))[0]\n",
    "        good = where(isnan(fluxes[i]) == False)[0]\n",
    "        #wavelim=[3600,5400]\n",
    "        wavenew = linspace(min(wave)+100,max(wave)-100,num=len(fluxes[i])-(100) )\n",
    "        #wavenew = wave\n",
    "\n",
    "        #print shape(waves), shape(good),shape(fluxes[i]), shape(waves[good]), shape(fluxes[good])\n",
    "        #print good, fluxes[i][good],i \n",
    "        f = interpolate.interp1d(wave[good], fluxes[i][good],\"cubic\", bounds_error=True)\n",
    "        newspec.append(f(wavenew))\n",
    "    wavenew = [linspace(min(wave),max(wave),num=len(fluxes[i]) )] * len(fluxes)\n",
    "    wavenew = array(wavenew) ; newspec=array(newspec)\n",
    "    p.plot(wavenew,newspec/median(newspec))\n",
    "    #B = np.where(np.isfinite(A),A,f(inds))\n",
    "    return newspec\n",
    "\n",
    "\n",
    "\n",
    "def BMCcntflux(lams, fluxes,width = 50,ptile=98, cpy = False,plt=False):\n",
    "    import copy as cp\n",
    "    import time\n",
    "    from scipy import stats\n",
    "    continuumflux = []\n",
    "\n",
    "    for i in arange(len(fluxes)):\n",
    "        testind = where((lams >= lams[i]-(width/2.0)) & (lams <= lams[i]+(width/2.0)))[0]\n",
    "        continuumflux.append(stats.scoreatpercentile(fluxes[testind],ptile))\n",
    "\n",
    "    if plt:\n",
    "        p.plot(lams,fluxes)\n",
    "        p.plot(lams,continuumflux,'-')\n",
    "    fluxes /= continuumflux\n",
    "    return fluxes\n",
    "\n",
    "def BMCcntflux_poly(lams, fluxes,width = 20,ptile=98, cpy = False,plt=False,deg = 3):\n",
    "    import numpy as np\n",
    "    import copy as cp\n",
    "    continuumpts = []\n",
    "    lampts = []\n",
    "\n",
    "    for i in arange(len(fluxes)):\n",
    "        testind = where((lams >= lams[i]-(width/2.0)) & (lams <= lams[i]+(width/2.0)))[0]\n",
    "        lampts.append( (lams[i]-(width/2.0) +lams[i]+(width/2.0) )/2.0 )\n",
    "        if isnan(percentile(fluxes[testind],ptile) ) == False:\n",
    "            continuumpts.append(percentile(fluxes[testind],ptile))\n",
    "        else:\n",
    "            continue\n",
    "    try:\n",
    "        Z  = np.polyfit(lampts, continuumpts,deg=deg)\n",
    "    except TypeError:\n",
    "        print('WARNING couldnt fit conitnuum returning nans')\n",
    "        return np.array([nan]*len(lams))\n",
    "    func = np.poly1d(Z)\n",
    "    continuumflux = func(lams)\n",
    "    if plt:\n",
    "        p.plot(lams,fluxes)\n",
    "        p.plot(lams,continuumflux,'-')\n",
    "    fluxes /= continuumflux\n",
    "    return fluxes"
   ]
  },
  {
   "cell_type": "code",
   "execution_count": 2,
   "id": "e797fcbe",
   "metadata": {},
   "outputs": [
    {
     "ename": "NameError",
     "evalue": "name 'waves' is not defined",
     "output_type": "error",
     "traceback": [
      "\u001b[0;31m---------------------------------------------------------------------------\u001b[0m",
      "\u001b[0;31mNameError\u001b[0m                                 Traceback (most recent call last)",
      "\u001b[0;32m<ipython-input-2-bb452116fd01>\u001b[0m in \u001b[0;36m<module>\u001b[0;34m\u001b[0m\n\u001b[0;32m----> 1\u001b[0;31m \u001b[0mflux2\u001b[0m \u001b[0;34m=\u001b[0m \u001b[0mfill_nan_21\u001b[0m\u001b[0;34m(\u001b[0m\u001b[0mwaves\u001b[0m\u001b[0;34m,\u001b[0m\u001b[0mD\u001b[0m\u001b[0;34m[\u001b[0m\u001b[0;34m'spec'\u001b[0m\u001b[0;34m]\u001b[0m\u001b[0;34m[\u001b[0m\u001b[0mok\u001b[0m\u001b[0;34m]\u001b[0m\u001b[0;34m,\u001b[0m\u001b[0mclean_outlier\u001b[0m\u001b[0;34m=\u001b[0m\u001b[0;36m4\u001b[0m\u001b[0;34m)\u001b[0m\u001b[0;34m\u001b[0m\u001b[0;34m\u001b[0m\u001b[0m\n\u001b[0m",
      "\u001b[0;31mNameError\u001b[0m: name 'waves' is not defined"
     ]
    }
   ],
   "source": [
    "flux2 = fill_nan_21(waves,D['spec'][ok],clean_outlier=4)"
   ]
  },
  {
   "cell_type": "code",
   "execution_count": 143,
   "id": "316f06f5",
   "metadata": {},
   "outputs": [
    {
     "data": {
      "text/plain": [
       "array([[         nan,          nan,          nan, ...,          nan,\n",
       "                 nan,          nan],\n",
       "       [         nan,          nan,          nan, ...,          nan,\n",
       "                 nan,          nan],\n",
       "       [         nan,          nan,          nan, ...,          nan,\n",
       "                 nan,          nan],\n",
       "       ...,\n",
       "       [216.30177835, 272.33189463, 232.44264507, ...,          nan,\n",
       "                 nan,          nan],\n",
       "       [         nan,          nan,          nan, ...,          nan,\n",
       "                 nan,          nan],\n",
       "       [         nan,          nan,          nan, ...,          nan,\n",
       "                 nan,          nan]])"
      ]
     },
     "execution_count": 143,
     "metadata": {},
     "output_type": "execute_result"
    }
   ],
   "source": [
    "flux2"
   ]
  },
  {
   "cell_type": "code",
   "execution_count": 138,
   "id": "33252f6a",
   "metadata": {},
   "outputs": [
    {
     "ename": "IndexError",
     "evalue": "index 1036 is out of bounds for axis 0 with size 1036",
     "output_type": "error",
     "traceback": [
      "\u001b[0;31m---------------------------------------------------------------------------\u001b[0m",
      "\u001b[0;31mIndexError\u001b[0m                                Traceback (most recent call last)",
      "\u001b[0;32m<ipython-input-138-4b7e9b27b956>\u001b[0m in \u001b[0;36m<module>\u001b[0;34m\u001b[0m\n\u001b[0;32m----> 1\u001b[0;31m \u001b[0mNflux\u001b[0m \u001b[0;34m=\u001b[0m \u001b[0mBMCcntflux\u001b[0m\u001b[0;34m(\u001b[0m\u001b[0mwaves\u001b[0m\u001b[0;34m,\u001b[0m\u001b[0mflux2\u001b[0m\u001b[0;34m)\u001b[0m\u001b[0;34m\u001b[0m\u001b[0;34m\u001b[0m\u001b[0m\n\u001b[0m",
      "\u001b[0;32m<ipython-input-136-742f17c4122b>\u001b[0m in \u001b[0;36mBMCcntflux\u001b[0;34m(lams, fluxes, width, ptile, cpy, plt)\u001b[0m\n\u001b[1;32m     41\u001b[0m \u001b[0;34m\u001b[0m\u001b[0m\n\u001b[1;32m     42\u001b[0m     \u001b[0;32mfor\u001b[0m \u001b[0mi\u001b[0m \u001b[0;32min\u001b[0m \u001b[0marange\u001b[0m\u001b[0;34m(\u001b[0m\u001b[0mlen\u001b[0m\u001b[0;34m(\u001b[0m\u001b[0mfluxes\u001b[0m\u001b[0;34m)\u001b[0m\u001b[0;34m)\u001b[0m\u001b[0;34m:\u001b[0m\u001b[0;34m\u001b[0m\u001b[0;34m\u001b[0m\u001b[0m\n\u001b[0;32m---> 43\u001b[0;31m         \u001b[0mtestind\u001b[0m \u001b[0;34m=\u001b[0m \u001b[0mwhere\u001b[0m\u001b[0;34m(\u001b[0m\u001b[0;34m(\u001b[0m\u001b[0mlams\u001b[0m \u001b[0;34m>=\u001b[0m \u001b[0mlams\u001b[0m\u001b[0;34m[\u001b[0m\u001b[0mi\u001b[0m\u001b[0;34m]\u001b[0m\u001b[0;34m-\u001b[0m\u001b[0;34m(\u001b[0m\u001b[0mwidth\u001b[0m\u001b[0;34m/\u001b[0m\u001b[0;36m2.0\u001b[0m\u001b[0;34m)\u001b[0m\u001b[0;34m)\u001b[0m \u001b[0;34m&\u001b[0m \u001b[0;34m(\u001b[0m\u001b[0mlams\u001b[0m \u001b[0;34m<=\u001b[0m \u001b[0mlams\u001b[0m\u001b[0;34m[\u001b[0m\u001b[0mi\u001b[0m\u001b[0;34m]\u001b[0m\u001b[0;34m+\u001b[0m\u001b[0;34m(\u001b[0m\u001b[0mwidth\u001b[0m\u001b[0;34m/\u001b[0m\u001b[0;36m2.0\u001b[0m\u001b[0;34m)\u001b[0m\u001b[0;34m)\u001b[0m\u001b[0;34m)\u001b[0m\u001b[0;34m[\u001b[0m\u001b[0;36m0\u001b[0m\u001b[0;34m]\u001b[0m\u001b[0;34m\u001b[0m\u001b[0;34m\u001b[0m\u001b[0m\n\u001b[0m\u001b[1;32m     44\u001b[0m         \u001b[0mcontinuumflux\u001b[0m\u001b[0;34m.\u001b[0m\u001b[0mappend\u001b[0m\u001b[0;34m(\u001b[0m\u001b[0mstats\u001b[0m\u001b[0;34m.\u001b[0m\u001b[0mscoreatpercentile\u001b[0m\u001b[0;34m(\u001b[0m\u001b[0mfluxes\u001b[0m\u001b[0;34m[\u001b[0m\u001b[0mtestind\u001b[0m\u001b[0;34m]\u001b[0m\u001b[0;34m,\u001b[0m\u001b[0mptile\u001b[0m\u001b[0;34m)\u001b[0m\u001b[0;34m)\u001b[0m\u001b[0;34m\u001b[0m\u001b[0;34m\u001b[0m\u001b[0m\n\u001b[1;32m     45\u001b[0m \u001b[0;34m\u001b[0m\u001b[0m\n",
      "\u001b[0;31mIndexError\u001b[0m: index 1036 is out of bounds for axis 0 with size 1036"
     ]
    }
   ],
   "source": [
    "Nflux = BMCcntflux(waves,flux2)"
   ]
  },
  {
   "cell_type": "code",
   "execution_count": 161,
   "id": "061f7af6",
   "metadata": {},
   "outputs": [],
   "source": [
    "#ok_pix = [nan]*len(D['spec'][0])\n",
    "ok_pix= []\n",
    "for i in range(1036):\n",
    "    if any(isnan(D['spec'][:,i])):\n",
    "        continue\n",
    "    else:\n",
    "        ok_pix.append(i)"
   ]
  },
  {
   "cell_type": "code",
   "execution_count": 162,
   "id": "d5b6602e",
   "metadata": {},
   "outputs": [
    {
     "data": {
      "text/plain": [
       "[]"
      ]
     },
     "execution_count": 162,
     "metadata": {},
     "output_type": "execute_result"
    }
   ],
   "source": [
    "ok_pix"
   ]
  },
  {
   "cell_type": "code",
   "execution_count": null,
   "id": "b8a28808",
   "metadata": {},
   "outputs": [],
   "source": []
  }
 ],
 "metadata": {
  "kernelspec": {
   "display_name": "Python 3",
   "language": "python",
   "name": "python3"
  },
  "language_info": {
   "codemirror_mode": {
    "name": "ipython",
    "version": 3
   },
   "file_extension": ".py",
   "mimetype": "text/x-python",
   "name": "python",
   "nbconvert_exporter": "python",
   "pygments_lexer": "ipython3",
   "version": "3.8.8"
  }
 },
 "nbformat": 4,
 "nbformat_minor": 5
}
